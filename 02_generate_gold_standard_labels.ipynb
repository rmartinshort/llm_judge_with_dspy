{
 "cells": [
  {
   "cell_type": "markdown",
   "id": "5b0459d2-1c1c-4fb0-a7a3-2339fe0e131e",
   "metadata": {},
   "source": [
    "# Gold standard judge dataset\n",
    "This is the equivalent of SME labelling"
   ]
  },
  {
   "cell_type": "code",
   "execution_count": 4,
   "id": "b0d29216-d581-43cf-a87c-2a23fc733e21",
   "metadata": {},
   "outputs": [
    {
     "name": "stdout",
     "output_type": "stream",
     "text": [
      "The autoreload extension is already loaded. To reload it, use:\n",
      "  %reload_ext autoreload\n"
     ]
    }
   ],
   "source": [
    "%load_ext autoreload\n",
    "%autoreload 2"
   ]
  },
  {
   "cell_type": "code",
   "execution_count": 1,
   "id": "31545599-043c-40db-9248-6026414447eb",
   "metadata": {},
   "outputs": [
    {
     "name": "stderr",
     "output_type": "stream",
     "text": [
      "/Users/rmartinshort/Documents/DS_projects/dspy_judge/judgemodel/lib/python3.12/site-packages/tqdm/auto.py:21: TqdmWarning: IProgress not found. Please update jupyter and ipywidgets. See https://ipywidgets.readthedocs.io/en/stable/user_install.html\n",
      "  from .autonotebook import tqdm as notebook_tqdm\n"
     ]
    }
   ],
   "source": [
    "from dspy_judge.llm_caller.utils import load_secrets\n",
    "from dspy_judge.data_loader.dataset_loader import CustomerSupportDatasetLoader\n",
    "from dspy_judge.processor.parallel_processor import ParallelProcessor\n",
    "from dspy_judge.prompts.dspy_signatures import SupportTranscriptJudge\n",
    "from dspy_judge.processor.utils import convert_dataset_to_dspy_examples, extract_llm_response_fields_dspy\n",
    "from dspy_judge.processor.parallel_processor import ParallelProcessor\n",
    "from dspy_judge.metrics import match_judge_metric\n",
    "from dspy_judge.plotting import plot_judge_results\n",
    "import numpy as np\n",
    "from sklearn.metrics import cohen_kappa_score\n",
    "import dspy"
   ]
  },
  {
   "cell_type": "code",
   "execution_count": 6,
   "id": "a8f39106-9099-485f-9c93-0cab2691f222",
   "metadata": {},
   "outputs": [],
   "source": [
    "secrets = load_secrets()"
   ]
  },
  {
   "cell_type": "markdown",
   "id": "ca471612-07ac-4c2b-9c39-423b35b9081e",
   "metadata": {},
   "source": [
    "## Load split dataset (final output of notebook 1)"
   ]
  },
  {
   "cell_type": "code",
   "execution_count": 7,
   "id": "ff61ef2b-e68b-4a46-8ff9-bab0a7a6aa36",
   "metadata": {},
   "outputs": [
    {
     "name": "stdout",
     "output_type": "stream",
     "text": [
      "Local dataset loaded from datasets/preprocessed_dev_judge_dataset_split/. Size: 2\n"
     ]
    }
   ],
   "source": [
    "data_loader = CustomerSupportDatasetLoader()\n",
    "split_dataset = data_loader.load_local_dataset(\"datasets/preprocessed_dev_judge_dataset_split/\")"
   ]
  },
  {
   "cell_type": "code",
   "execution_count": 8,
   "id": "9eb222c2-7cd1-4df3-a7fb-287c7dc3e043",
   "metadata": {},
   "outputs": [],
   "source": [
    "dev_dataset = split_dataset[\"train\"]\n",
    "judge_dataset = split_dataset[\"test\"]"
   ]
  },
  {
   "cell_type": "markdown",
   "id": "03d686d0-8cb2-45ff-a8d0-221f70167227",
   "metadata": {},
   "source": [
    "## Set up gold standard judge"
   ]
  },
  {
   "cell_type": "code",
   "execution_count": null,
   "id": "b363a5b5-ee79-4bfb-ac39-7ba8e06a5821",
   "metadata": {},
   "outputs": [],
   "source": [
    "gold_standard_judge_generator_module = dspy.ChainOfThought(SupportTranscriptJudge)"
   ]
  },
  {
   "cell_type": "code",
   "execution_count": 9,
   "id": "8a0da501-a74d-4d82-a0e3-59d3e83b56fe",
   "metadata": {
    "collapsed": true,
    "jupyter": {
     "outputs_hidden": true
    },
    "scrolled": true
   },
   "outputs": [
    {
     "name": "stdout",
     "output_type": "stream",
     "text": [
      "******************************\n",
      "{'docstring': \"You are a very experienced customer service agent who has worked in multiple industries and understands how to address\\na very large range of issues. Your task is to help train more junior customer service agents by looking at how they responded \\nto real queries and judging whether or not the interaction was successful. \\nA successful interaction is somewhat subjective and you will lean on your expertise when making the judgment. In general, the\\nresponses from the agent being judged should:\\n1. Provide a solid answer to the question if one is asked. If the agent doesn't know the answer, or there is no clear answer, that's OK, \\nbut the agent should clearly explain that they don't know and offer suggestions for where to find more information. \\n2. The agent's response should always be polite and understanding, even if the customer is angry.\\n3. Sometimes customers make comments that can't really be acted upon. In these situations, the agent's response should be appropriate, expressing\\nthanks for the feedback, apologizing for any failures, and being supportive of any issues.\\n4. The responses should be concise. Complicated issues should be sufficiently explained without excessive verbosity.\\nPut yourself in the customer's shoes when reading the agent's responses. How would they react to what they read? Would they have had a \\npositive or negative experience? \\nWhen reading, pay most attention to the agent's most recent response since this is the one that the customer will be reading right now.\\nUse the other parts of the conversation as useful context. You'll also be told the company that the agent works for, which may help you\\nunderstand the types of issues that they deal with.\\nYou must provide an indication of whether or not you are satisfied with the agent's response, and a short explanation for your\\nreasoning. Your indication can only be True or False, and your explanation should be fewer than 20 words.\", 'fields': {'transcript': {'desc': 'Input transcript to judge', 'field_type': 'input', 'annotation_str': \"<class 'str'>\", 'prefix': 'Transcript:', 'required': True}, 'reasoning': {'desc': '${reasoning}', 'field_type': 'output', 'annotation_str': \"<class 'str'>\", 'prefix': \"Reasoning: Let's think step by step in order to\", 'required': True}, 'satisfied': {'desc': 'Whether the agent satisfied the customer query. This must be either True or False', 'field_type': 'output', 'annotation_str': \"<class 'str'>\", 'prefix': 'Satisfied:', 'required': True}}, 'demos': []}\n",
      "******************************\n",
      "Processing 160 examples with 4 workers using DSPy...\n"
     ]
    },
    {
     "name": "stderr",
     "output_type": "stream",
     "text": [
      "Processing with DSPy:   0%|                                                                                                | 0/160 [00:00<?, ?it/s]2025/08/16 13:35:16 WARNING dspy.adapters.json_adapter: Failed to use structured output format, falling back to JSON mode.\n",
      "2025/08/16 13:35:16 WARNING dspy.adapters.json_adapter: Failed to use structured output format, falling back to JSON mode.\n",
      "2025/08/16 13:35:16 WARNING dspy.adapters.json_adapter: Failed to use structured output format, falling back to JSON mode.\n",
      "2025/08/16 13:35:16 WARNING dspy.adapters.json_adapter: Failed to use structured output format, falling back to JSON mode.\n",
      "2025/08/16 13:35:19 WARNING dspy.adapters.json_adapter: Failed to use structured output format, falling back to JSON mode.\n",
      "Processing with DSPy:   1%|▌                                                                                       | 1/160 [00:05<15:47,  5.96s/it]2025/08/16 13:35:19 WARNING dspy.adapters.json_adapter: Failed to use structured output format, falling back to JSON mode.\n",
      "2025/08/16 13:35:19 WARNING dspy.adapters.json_adapter: Failed to use structured output format, falling back to JSON mode.\n",
      "2025/08/16 13:35:19 WARNING dspy.adapters.json_adapter: Failed to use structured output format, falling back to JSON mode.\n",
      "2025/08/16 13:35:21 WARNING dspy.adapters.json_adapter: Failed to use structured output format, falling back to JSON mode.\n",
      "Processing with DSPy:   3%|██▊                                                                                     | 5/160 [00:08<03:44,  1.45s/it]2025/08/16 13:35:21 WARNING dspy.adapters.json_adapter: Failed to use structured output format, falling back to JSON mode.\n",
      "2025/08/16 13:35:22 WARNING dspy.adapters.json_adapter: Failed to use structured output format, falling back to JSON mode.\n",
      "Processing with DSPy:   4%|███▊                                                                                    | 7/160 [00:09<02:42,  1.06s/it]2025/08/16 13:35:22 WARNING dspy.adapters.json_adapter: Failed to use structured output format, falling back to JSON mode.\n",
      "Processing with DSPy:   6%|████▉                                                                                   | 9/160 [00:11<02:33,  1.01s/it]2025/08/16 13:35:24 WARNING dspy.adapters.json_adapter: Failed to use structured output format, falling back to JSON mode.\n",
      "2025/08/16 13:35:24 WARNING dspy.adapters.json_adapter: Failed to use structured output format, falling back to JSON mode.\n",
      "Processing with DSPy:   7%|█████▉                                                                                 | 11/160 [00:12<01:56,  1.28it/s]2025/08/16 13:35:25 WARNING dspy.adapters.json_adapter: Failed to use structured output format, falling back to JSON mode.\n",
      "Processing with DSPy:   8%|██████▌                                                                                | 12/160 [00:13<02:14,  1.10it/s]2025/08/16 13:35:26 WARNING dspy.adapters.json_adapter: Failed to use structured output format, falling back to JSON mode.\n",
      "Processing with DSPy:   8%|███████                                                                                | 13/160 [00:14<02:26,  1.00it/s]2025/08/16 13:35:27 WARNING dspy.adapters.json_adapter: Failed to use structured output format, falling back to JSON mode.\n",
      "2025/08/16 13:35:27 WARNING dspy.adapters.json_adapter: Failed to use structured output format, falling back to JSON mode.\n",
      "Processing with DSPy:   9%|████████▏                                                                              | 15/160 [00:15<01:46,  1.36it/s]2025/08/16 13:35:28 WARNING dspy.adapters.json_adapter: Failed to use structured output format, falling back to JSON mode.\n",
      "Processing with DSPy:  10%|████████▋                                                                              | 16/160 [00:16<01:51,  1.30it/s]2025/08/16 13:35:29 WARNING dspy.adapters.json_adapter: Failed to use structured output format, falling back to JSON mode.\n",
      "2025/08/16 13:35:30 WARNING dspy.adapters.json_adapter: Failed to use structured output format, falling back to JSON mode.\n",
      "Processing with DSPy:  11%|█████████▏                                                                             | 17/160 [00:17<02:16,  1.05it/s]2025/08/16 13:35:31 WARNING dspy.adapters.json_adapter: Failed to use structured output format, falling back to JSON mode.\n",
      "Processing with DSPy:  12%|██████████▎                                                                            | 19/160 [00:18<01:49,  1.29it/s]2025/08/16 13:35:32 WARNING dspy.adapters.json_adapter: Failed to use structured output format, falling back to JSON mode.\n",
      "Processing with DSPy:  12%|██████████▉                                                                            | 20/160 [00:19<01:49,  1.28it/s]2025/08/16 13:35:32 WARNING dspy.adapters.json_adapter: Failed to use structured output format, falling back to JSON mode.\n",
      "Processing with DSPy:  13%|███████████▍                                                                           | 21/160 [00:20<02:04,  1.12it/s]2025/08/16 13:35:34 WARNING dspy.adapters.json_adapter: Failed to use structured output format, falling back to JSON mode.\n",
      "Processing with DSPy:  14%|███████████▉                                                                           | 22/160 [00:21<01:45,  1.30it/s]2025/08/16 13:35:34 WARNING dspy.adapters.json_adapter: Failed to use structured output format, falling back to JSON mode.\n",
      "Processing with DSPy:  14%|████████████▌                                                                          | 23/160 [00:21<01:35,  1.43it/s]2025/08/16 13:35:35 WARNING dspy.adapters.json_adapter: Failed to use structured output format, falling back to JSON mode.\n",
      "Processing with DSPy:  15%|█████████████                                                                          | 24/160 [00:23<02:02,  1.11it/s]2025/08/16 13:35:36 WARNING dspy.adapters.json_adapter: Failed to use structured output format, falling back to JSON mode.\n",
      "Processing with DSPy:  16%|█████████████▌                                                                         | 25/160 [00:23<01:58,  1.14it/s]2025/08/16 13:35:37 WARNING dspy.adapters.json_adapter: Failed to use structured output format, falling back to JSON mode.\n",
      "2025/08/16 13:35:37 WARNING dspy.adapters.json_adapter: Failed to use structured output format, falling back to JSON mode.\n",
      "Processing with DSPy:  17%|██████████████▋                                                                        | 27/160 [00:24<01:34,  1.41it/s]2025/08/16 13:35:38 WARNING dspy.adapters.json_adapter: Failed to use structured output format, falling back to JSON mode.\n",
      "Processing with DSPy:  18%|███████████████▏                                                                       | 28/160 [00:26<01:49,  1.20it/s]2025/08/16 13:35:39 WARNING dspy.adapters.json_adapter: Failed to use structured output format, falling back to JSON mode.\n",
      "Processing with DSPy:  18%|███████████████▊                                                                       | 29/160 [00:27<01:56,  1.12it/s]2025/08/16 13:35:40 WARNING dspy.adapters.json_adapter: Failed to use structured output format, falling back to JSON mode.\n",
      "2025/08/16 13:35:40 WARNING dspy.adapters.json_adapter: Failed to use structured output format, falling back to JSON mode.\n",
      "Processing with DSPy:  19%|████████████████▊                                                                      | 31/160 [00:28<01:37,  1.32it/s]2025/08/16 13:35:41 WARNING dspy.adapters.json_adapter: Failed to use structured output format, falling back to JSON mode.\n",
      "Processing with DSPy:  20%|█████████████████▍                                                                     | 32/160 [00:29<01:38,  1.30it/s]2025/08/16 13:35:42 WARNING dspy.adapters.json_adapter: Failed to use structured output format, falling back to JSON mode.\n",
      "2025/08/16 13:35:43 WARNING dspy.adapters.json_adapter: Failed to use structured output format, falling back to JSON mode.\n",
      "Processing with DSPy:  21%|█████████████████▉                                                                     | 33/160 [00:31<02:17,  1.08s/it]2025/08/16 13:35:44 WARNING dspy.adapters.json_adapter: Failed to use structured output format, falling back to JSON mode.\n",
      "Processing with DSPy:  22%|███████████████████                                                                    | 35/160 [00:31<01:25,  1.46it/s]2025/08/16 13:35:44 WARNING dspy.adapters.json_adapter: Failed to use structured output format, falling back to JSON mode.\n",
      "Processing with DSPy:  22%|███████████████████▌                                                                   | 36/160 [00:31<01:18,  1.59it/s]2025/08/16 13:35:45 WARNING dspy.adapters.json_adapter: Failed to use structured output format, falling back to JSON mode.\n",
      "Processing with DSPy:  23%|████████████████████                                                                   | 37/160 [00:33<01:40,  1.23it/s]2025/08/16 13:35:46 WARNING dspy.adapters.json_adapter: Failed to use structured output format, falling back to JSON mode.\n",
      "Processing with DSPy:  24%|████████████████████▋                                                                  | 38/160 [00:34<01:42,  1.19it/s]2025/08/16 13:35:47 WARNING dspy.adapters.json_adapter: Failed to use structured output format, falling back to JSON mode.\n",
      "2025/08/16 13:35:47 WARNING dspy.adapters.json_adapter: Failed to use structured output format, falling back to JSON mode.\n",
      "Processing with DSPy:  25%|█████████████████████▊                                                                 | 40/160 [00:34<01:12,  1.66it/s]2025/08/16 13:35:48 WARNING dspy.adapters.json_adapter: Failed to use structured output format, falling back to JSON mode.\n",
      "Processing with DSPy:  26%|██████████████████████▎                                                                | 41/160 [00:36<01:48,  1.10it/s]2025/08/16 13:35:50 WARNING dspy.adapters.json_adapter: Failed to use structured output format, falling back to JSON mode.\n",
      "2025/08/16 13:35:50 WARNING dspy.adapters.json_adapter: Failed to use structured output format, falling back to JSON mode.\n",
      "Processing with DSPy:  26%|██████████████████████▊                                                                | 42/160 [00:37<01:35,  1.23it/s]2025/08/16 13:35:50 WARNING dspy.adapters.json_adapter: Failed to use structured output format, falling back to JSON mode.\n",
      "Processing with DSPy:  28%|███████████████████████▉                                                               | 44/160 [00:37<01:11,  1.62it/s]2025/08/16 13:35:51 WARNING dspy.adapters.json_adapter: Failed to use structured output format, falling back to JSON mode.\n",
      "Processing with DSPy:  28%|████████████████████████▍                                                              | 45/160 [00:39<01:37,  1.18it/s]2025/08/16 13:35:52 WARNING dspy.adapters.json_adapter: Failed to use structured output format, falling back to JSON mode.\n",
      "Processing with DSPy:  29%|█████████████████████████                                                              | 46/160 [00:40<01:30,  1.26it/s]2025/08/16 13:35:53 WARNING dspy.adapters.json_adapter: Failed to use structured output format, falling back to JSON mode.\n",
      "2025/08/16 13:35:53 WARNING dspy.adapters.json_adapter: Failed to use structured output format, falling back to JSON mode.\n",
      "2025/08/16 13:35:55 WARNING dspy.adapters.json_adapter: Failed to use structured output format, falling back to JSON mode.\n",
      "Processing with DSPy:  30%|██████████████████████████                                                             | 48/160 [00:42<01:46,  1.05it/s]2025/08/16 13:35:55 WARNING dspy.adapters.json_adapter: Failed to use structured output format, falling back to JSON mode.\n",
      "Processing with DSPy:  31%|███████████████████████████▏                                                           | 50/160 [00:43<01:16,  1.44it/s]2025/08/16 13:35:56 WARNING dspy.adapters.json_adapter: Failed to use structured output format, falling back to JSON mode.\n",
      "Processing with DSPy:  32%|███████████████████████████▋                                                           | 51/160 [00:43<01:08,  1.59it/s]2025/08/16 13:35:56 WARNING dspy.adapters.json_adapter: Failed to use structured output format, falling back to JSON mode.\n",
      "Processing with DSPy:  32%|████████████████████████████▎                                                          | 52/160 [00:45<01:49,  1.02s/it]2025/08/16 13:35:59 WARNING dspy.adapters.json_adapter: Failed to use structured output format, falling back to JSON mode.\n",
      "Processing with DSPy:  33%|████████████████████████████▊                                                          | 53/160 [00:45<01:27,  1.22it/s]2025/08/16 13:35:59 WARNING dspy.adapters.json_adapter: Failed to use structured output format, falling back to JSON mode.\n",
      "2025/08/16 13:35:59 WARNING dspy.adapters.json_adapter: Failed to use structured output format, falling back to JSON mode.\n",
      "Processing with DSPy:  34%|█████████████████████████████▉                                                         | 55/160 [00:46<01:06,  1.59it/s]2025/08/16 13:36:00 WARNING dspy.adapters.json_adapter: Failed to use structured output format, falling back to JSON mode.\n",
      "2025/08/16 13:36:02 WARNING dspy.adapters.json_adapter: Failed to use structured output format, falling back to JSON mode.\n",
      "2025/08/16 13:36:03 WARNING dspy.adapters.json_adapter: Failed to use structured output format, falling back to JSON mode.\n",
      "Processing with DSPy:  35%|██████████████████████████████▍                                                        | 56/160 [00:49<02:06,  1.22s/it]2025/08/16 13:36:03 WARNING dspy.adapters.json_adapter: Failed to use structured output format, falling back to JSON mode.\n",
      "Processing with DSPy:  37%|████████████████████████████████                                                       | 59/160 [00:50<01:12,  1.39it/s]2025/08/16 13:36:03 WARNING dspy.adapters.json_adapter: Failed to use structured output format, falling back to JSON mode.\n",
      "2025/08/16 13:36:06 WARNING dspy.adapters.json_adapter: Failed to use structured output format, falling back to JSON mode.\n",
      "Processing with DSPy:  38%|████████████████████████████████▋                                                      | 60/160 [00:53<01:50,  1.10s/it]2025/08/16 13:36:06 WARNING dspy.adapters.json_adapter: Failed to use structured output format, falling back to JSON mode.\n",
      "Processing with DSPy:  39%|█████████████████████████████████▋                                                     | 62/160 [00:53<01:18,  1.24it/s]2025/08/16 13:36:07 WARNING dspy.adapters.json_adapter: Failed to use structured output format, falling back to JSON mode.\n",
      "Processing with DSPy:  39%|██████████████████████████████████▎                                                    | 63/160 [00:54<01:14,  1.30it/s]2025/08/16 13:36:07 WARNING dspy.adapters.json_adapter: Failed to use structured output format, falling back to JSON mode.\n",
      "Processing with DSPy:  40%|██████████████████████████████████▊                                                    | 64/160 [00:57<02:00,  1.25s/it]2025/08/16 13:36:10 WARNING dspy.adapters.json_adapter: Failed to use structured output format, falling back to JSON mode.\n",
      "2025/08/16 13:36:10 WARNING dspy.adapters.json_adapter: Failed to use structured output format, falling back to JSON mode.\n",
      "Processing with DSPy:  41%|███████████████████████████████████▉                                                   | 66/160 [00:57<01:24,  1.12it/s]2025/08/16 13:36:11 WARNING dspy.adapters.json_adapter: Failed to use structured output format, falling back to JSON mode.\n",
      "Processing with DSPy:  42%|████████████████████████████████████▍                                                  | 67/160 [00:58<01:09,  1.34it/s]2025/08/16 13:36:11 WARNING dspy.adapters.json_adapter: Failed to use structured output format, falling back to JSON mode.\n",
      "Processing with DSPy:  42%|████████████████████████████████████▉                                                  | 68/160 [01:00<01:48,  1.18s/it]2025/08/16 13:36:14 WARNING dspy.adapters.json_adapter: Failed to use structured output format, falling back to JSON mode.\n",
      "Processing with DSPy:  43%|█████████████████████████████████████▌                                                 | 69/160 [01:01<01:30,  1.00it/s]2025/08/16 13:36:14 WARNING dspy.adapters.json_adapter: Failed to use structured output format, falling back to JSON mode.\n",
      "2025/08/16 13:36:15 WARNING dspy.adapters.json_adapter: Failed to use structured output format, falling back to JSON mode.\n",
      "Processing with DSPy:  44%|██████████████████████████████████████                                                 | 70/160 [01:02<01:28,  1.01it/s]2025/08/16 13:36:15 WARNING dspy.adapters.json_adapter: Failed to use structured output format, falling back to JSON mode.\n",
      "Processing with DSPy:  45%|███████████████████████████████████████▏                                               | 72/160 [01:04<01:32,  1.05s/it]2025/08/16 13:36:17 WARNING dspy.adapters.json_adapter: Failed to use structured output format, falling back to JSON mode.\n",
      "2025/08/16 13:36:19 WARNING dspy.adapters.json_adapter: Failed to use structured output format, falling back to JSON mode.\n",
      "Processing with DSPy:  46%|███████████████████████████████████████▋                                               | 73/160 [01:06<01:48,  1.25s/it]2025/08/16 13:36:19 WARNING dspy.adapters.json_adapter: Failed to use structured output format, falling back to JSON mode.\n",
      "2025/08/16 13:36:19 WARNING dspy.adapters.json_adapter: Failed to use structured output format, falling back to JSON mode.\n",
      "Processing with DSPy:  48%|█████████████████████████████████████████▎                                             | 76/160 [01:08<01:20,  1.05it/s]2025/08/16 13:36:21 WARNING dspy.adapters.json_adapter: Failed to use structured output format, falling back to JSON mode.\n",
      "2025/08/16 13:36:23 WARNING dspy.adapters.json_adapter: Failed to use structured output format, falling back to JSON mode.\n",
      "Processing with DSPy:  48%|█████████████████████████████████████████▊                                             | 77/160 [01:10<01:41,  1.22s/it]2025/08/16 13:36:24 WARNING dspy.adapters.json_adapter: Failed to use structured output format, falling back to JSON mode.\n",
      "2025/08/16 13:36:24 WARNING dspy.adapters.json_adapter: Failed to use structured output format, falling back to JSON mode.\n",
      "Processing with DSPy:  50%|███████████████████████████████████████████▌                                           | 80/160 [01:12<01:18,  1.02it/s]2025/08/16 13:36:26 WARNING dspy.adapters.json_adapter: Failed to use structured output format, falling back to JSON mode.\n",
      "2025/08/16 13:36:27 WARNING dspy.adapters.json_adapter: Failed to use structured output format, falling back to JSON mode.\n",
      "Processing with DSPy:  51%|████████████████████████████████████████████                                           | 81/160 [01:14<01:32,  1.17s/it]2025/08/16 13:36:28 WARNING dspy.adapters.json_adapter: Failed to use structured output format, falling back to JSON mode.\n",
      "2025/08/16 13:36:28 WARNING dspy.adapters.json_adapter: Failed to use structured output format, falling back to JSON mode.\n",
      "Processing with DSPy:  52%|█████████████████████████████████████████████▋                                         | 84/160 [01:15<01:00,  1.26it/s]2025/08/16 13:36:29 WARNING dspy.adapters.json_adapter: Failed to use structured output format, falling back to JSON mode.\n",
      "2025/08/16 13:36:31 WARNING dspy.adapters.json_adapter: Failed to use structured output format, falling back to JSON mode.\n",
      "Processing with DSPy:  53%|██████████████████████████████████████████████▏                                        | 85/160 [01:18<01:29,  1.19s/it]2025/08/16 13:36:32 WARNING dspy.adapters.json_adapter: Failed to use structured output format, falling back to JSON mode.\n",
      "2025/08/16 13:36:32 WARNING dspy.adapters.json_adapter: Failed to use structured output format, falling back to JSON mode.\n",
      "Processing with DSPy:  55%|███████████████████████████████████████████████▊                                       | 88/160 [01:20<01:03,  1.14it/s]2025/08/16 13:36:33 WARNING dspy.adapters.json_adapter: Failed to use structured output format, falling back to JSON mode.\n",
      "Processing with DSPy:  56%|████████████████████████████████████████████████▍                                      | 89/160 [01:22<01:21,  1.14s/it]2025/08/16 13:36:35 WARNING dspy.adapters.json_adapter: Failed to use structured output format, falling back to JSON mode.\n",
      "Processing with DSPy:  56%|████████████████████████████████████████████████▉                                      | 90/160 [01:22<01:08,  1.02it/s]2025/08/16 13:36:36 WARNING dspy.adapters.json_adapter: Failed to use structured output format, falling back to JSON mode.\n",
      "2025/08/16 13:36:36 WARNING dspy.adapters.json_adapter: Failed to use structured output format, falling back to JSON mode.\n",
      "Processing with DSPy:  57%|██████████████████████████████████████████████████                                     | 92/160 [01:24<01:06,  1.02it/s]2025/08/16 13:36:38 WARNING dspy.adapters.json_adapter: Failed to use structured output format, falling back to JSON mode.\n",
      "2025/08/16 13:36:40 WARNING dspy.adapters.json_adapter: Failed to use structured output format, falling back to JSON mode.\n",
      "Processing with DSPy:  58%|██████████████████████████████████████████████████▌                                    | 93/160 [01:27<01:21,  1.22s/it]2025/08/16 13:36:40 WARNING dspy.adapters.json_adapter: Failed to use structured output format, falling back to JSON mode.\n",
      "Processing with DSPy:  59%|███████████████████████████████████████████████████▋                                   | 95/160 [01:27<00:51,  1.25it/s]2025/08/16 13:36:40 WARNING dspy.adapters.json_adapter: Failed to use structured output format, falling back to JSON mode.\n",
      "Processing with DSPy:  60%|████████████████████████████████████████████████████▏                                  | 96/160 [01:28<01:02,  1.03it/s]2025/08/16 13:36:42 WARNING dspy.adapters.json_adapter: Failed to use structured output format, falling back to JSON mode.\n",
      "Processing with DSPy:  61%|████████████████████████████████████████████████████▋                                  | 97/160 [01:30<01:10,  1.11s/it]2025/08/16 13:36:43 WARNING dspy.adapters.json_adapter: Failed to use structured output format, falling back to JSON mode.\n",
      "Processing with DSPy:  61%|█████████████████████████████████████████████████████▎                                 | 98/160 [01:30<01:00,  1.02it/s]2025/08/16 13:36:44 WARNING dspy.adapters.json_adapter: Failed to use structured output format, falling back to JSON mode.\n",
      "Processing with DSPy:  62%|█████████████████████████████████████████████████████▊                                 | 99/160 [01:31<00:48,  1.27it/s]2025/08/16 13:36:44 WARNING dspy.adapters.json_adapter: Failed to use structured output format, falling back to JSON mode.\n",
      "Processing with DSPy:  62%|█████████████████████████████████████████████████████▊                                | 100/160 [01:32<00:55,  1.08it/s]2025/08/16 13:36:45 WARNING dspy.adapters.json_adapter: Failed to use structured output format, falling back to JSON mode.\n",
      "Processing with DSPy:  63%|██████████████████████████████████████████████████████▎                               | 101/160 [01:34<01:03,  1.08s/it]2025/08/16 13:36:47 WARNING dspy.adapters.json_adapter: Failed to use structured output format, falling back to JSON mode.\n",
      "Processing with DSPy:  64%|██████████████████████████████████████████████████████▊                               | 102/160 [01:34<00:56,  1.03it/s]2025/08/16 13:36:48 WARNING dspy.adapters.json_adapter: Failed to use structured output format, falling back to JSON mode.\n",
      "Processing with DSPy:  64%|███████████████████████████████████████████████████████▎                              | 103/160 [01:34<00:41,  1.37it/s]2025/08/16 13:36:48 WARNING dspy.adapters.json_adapter: Failed to use structured output format, falling back to JSON mode.\n",
      "Processing with DSPy:  65%|███████████████████████████████████████████████████████▉                              | 104/160 [01:35<00:47,  1.19it/s]2025/08/16 13:36:49 WARNING dspy.adapters.json_adapter: Failed to use structured output format, falling back to JSON mode.\n",
      "Processing with DSPy:  66%|████████████████████████████████████████████████████████▍                             | 105/160 [01:38<01:06,  1.22s/it]2025/08/16 13:36:51 WARNING dspy.adapters.json_adapter: Failed to use structured output format, falling back to JSON mode.\n",
      "2025/08/16 13:36:51 WARNING dspy.adapters.json_adapter: Failed to use structured output format, falling back to JSON mode.\n",
      "Processing with DSPy:  67%|█████████████████████████████████████████████████████████▌                            | 107/160 [01:38<00:44,  1.18it/s]2025/08/16 13:36:52 WARNING dspy.adapters.json_adapter: Failed to use structured output format, falling back to JSON mode.\n",
      "Processing with DSPy:  68%|██████████████████████████████████████████████████████████                            | 108/160 [01:39<00:39,  1.33it/s]2025/08/16 13:36:52 WARNING dspy.adapters.json_adapter: Failed to use structured output format, falling back to JSON mode.\n",
      "Processing with DSPy:  68%|██████████████████████████████████████████████████████████▌                           | 109/160 [01:41<01:00,  1.19s/it]2025/08/16 13:36:55 WARNING dspy.adapters.json_adapter: Failed to use structured output format, falling back to JSON mode.\n",
      "Processing with DSPy:  69%|███████████████████████████████████████████████████████████▏                          | 110/160 [01:42<00:46,  1.08it/s]2025/08/16 13:36:55 WARNING dspy.adapters.json_adapter: Failed to use structured output format, falling back to JSON mode.\n",
      "Processing with DSPy:  69%|███████████████████████████████████████████████████████████▋                          | 111/160 [01:42<00:41,  1.18it/s]2025/08/16 13:36:56 WARNING dspy.adapters.json_adapter: Failed to use structured output format, falling back to JSON mode.\n",
      "Processing with DSPy:  70%|████████████████████████████████████████████████████████████▏                         | 112/160 [01:43<00:35,  1.35it/s]2025/08/16 13:36:56 WARNING dspy.adapters.json_adapter: Failed to use structured output format, falling back to JSON mode.\n",
      "Processing with DSPy:  71%|████████████████████████████████████████████████████████████▋                         | 113/160 [01:45<00:53,  1.15s/it]2025/08/16 13:36:58 WARNING dspy.adapters.json_adapter: Failed to use structured output format, falling back to JSON mode.\n",
      "Processing with DSPy:  71%|█████████████████████████████████████████████████████████████▎                        | 114/160 [01:45<00:46,  1.01s/it]2025/08/16 13:36:59 WARNING dspy.adapters.json_adapter: Failed to use structured output format, falling back to JSON mode.\n",
      "2025/08/16 13:37:00 WARNING dspy.adapters.json_adapter: Failed to use structured output format, falling back to JSON mode.\n",
      "Processing with DSPy:  72%|█████████████████████████████████████████████████████████████▊                        | 115/160 [01:47<00:47,  1.05s/it]2025/08/16 13:37:00 WARNING dspy.adapters.json_adapter: Failed to use structured output format, falling back to JSON mode.\n",
      "Processing with DSPy:  73%|██████████████████████████████████████████████████████████████▉                       | 117/160 [01:49<00:43,  1.02s/it]2025/08/16 13:37:02 WARNING dspy.adapters.json_adapter: Failed to use structured output format, falling back to JSON mode.\n",
      "Processing with DSPy:  74%|███████████████████████████████████████████████████████████████▍                      | 118/160 [01:49<00:40,  1.05it/s]2025/08/16 13:37:03 WARNING dspy.adapters.json_adapter: Failed to use structured output format, falling back to JSON mode.\n",
      "Processing with DSPy:  74%|███████████████████████████████████████████████████████████████▉                      | 119/160 [01:51<00:44,  1.07s/it]2025/08/16 13:37:04 WARNING dspy.adapters.json_adapter: Failed to use structured output format, falling back to JSON mode.\n",
      "2025/08/16 13:37:04 WARNING dspy.adapters.json_adapter: Failed to use structured output format, falling back to JSON mode.\n",
      "Processing with DSPy:  76%|█████████████████████████████████████████████████████████████████                     | 121/160 [01:52<00:38,  1.01it/s]2025/08/16 13:37:06 WARNING dspy.adapters.json_adapter: Failed to use structured output format, falling back to JSON mode.\n",
      "Processing with DSPy:  76%|█████████████████████████████████████████████████████████████████▌                    | 122/160 [01:54<00:41,  1.08s/it]2025/08/16 13:37:07 WARNING dspy.adapters.json_adapter: Failed to use structured output format, falling back to JSON mode.\n",
      "Processing with DSPy:  77%|██████████████████████████████████████████████████████████████████                    | 123/160 [01:55<00:35,  1.03it/s]2025/08/16 13:37:08 WARNING dspy.adapters.json_adapter: Failed to use structured output format, falling back to JSON mode.\n",
      "Processing with DSPy:  78%|██████████████████████████████████████████████████████████████████▋                   | 124/160 [01:55<00:28,  1.28it/s]2025/08/16 13:37:08 WARNING dspy.adapters.json_adapter: Failed to use structured output format, falling back to JSON mode.\n",
      "Processing with DSPy:  78%|███████████████████████████████████████████████████████████████████▏                  | 125/160 [01:56<00:36,  1.03s/it]2025/08/16 13:37:10 WARNING dspy.adapters.json_adapter: Failed to use structured output format, falling back to JSON mode.\n",
      "2025/08/16 13:37:12 WARNING dspy.adapters.json_adapter: Failed to use structured output format, falling back to JSON mode.\n",
      "2025/08/16 13:37:12 WARNING dspy.adapters.json_adapter: Failed to use structured output format, falling back to JSON mode.\n",
      "Processing with DSPy:  79%|███████████████████████████████████████████████████████████████████▋                  | 126/160 [01:59<00:47,  1.41s/it]2025/08/16 13:37:12 WARNING dspy.adapters.json_adapter: Failed to use structured output format, falling back to JSON mode.\n",
      "Processing with DSPy:  81%|█████████████████████████████████████████████████████████████████████▎                | 129/160 [02:01<00:32,  1.04s/it]2025/08/16 13:37:14 WARNING dspy.adapters.json_adapter: Failed to use structured output format, falling back to JSON mode.\n",
      "Processing with DSPy:  81%|█████████████████████████████████████████████████████████████████████▉                | 130/160 [02:02<00:31,  1.05s/it]2025/08/16 13:37:15 WARNING dspy.adapters.json_adapter: Failed to use structured output format, falling back to JSON mode.\n",
      "2025/08/16 13:37:16 WARNING dspy.adapters.json_adapter: Failed to use structured output format, falling back to JSON mode.\n",
      "Processing with DSPy:  82%|██████████████████████████████████████████████████████████████████████▍               | 131/160 [02:03<00:29,  1.03s/it]2025/08/16 13:37:16 WARNING dspy.adapters.json_adapter: Failed to use structured output format, falling back to JSON mode.\n",
      "Processing with DSPy:  83%|███████████████████████████████████████████████████████████████████████▍              | 133/160 [02:05<00:24,  1.09it/s]2025/08/16 13:37:18 WARNING dspy.adapters.json_adapter: Failed to use structured output format, falling back to JSON mode.\n",
      "2025/08/16 13:37:20 WARNING dspy.adapters.json_adapter: Failed to use structured output format, falling back to JSON mode.\n",
      "Processing with DSPy:  84%|████████████████████████████████████████████████████████████████████████              | 134/160 [02:06<00:29,  1.13s/it]2025/08/16 13:37:20 WARNING dspy.adapters.json_adapter: Failed to use structured output format, falling back to JSON mode.\n",
      "Processing with DSPy:  85%|█████████████████████████████████████████████████████████████████████████             | 136/160 [02:07<00:17,  1.37it/s]2025/08/16 13:37:20 WARNING dspy.adapters.json_adapter: Failed to use structured output format, falling back to JSON mode.\n",
      "Processing with DSPy:  86%|█████████████████████████████████████████████████████████████████████████▋            | 137/160 [02:09<00:22,  1.02it/s]2025/08/16 13:37:22 WARNING dspy.adapters.json_adapter: Failed to use structured output format, falling back to JSON mode.\n",
      "2025/08/16 13:37:23 WARNING dspy.adapters.json_adapter: Failed to use structured output format, falling back to JSON mode.\n",
      "2025/08/16 13:37:24 WARNING dspy.adapters.json_adapter: Failed to use structured output format, falling back to JSON mode.\n",
      "Processing with DSPy:  86%|██████████████████████████████████████████████████████████████████████████▏           | 138/160 [02:12<00:33,  1.54s/it]2025/08/16 13:37:25 WARNING dspy.adapters.json_adapter: Failed to use structured output format, falling back to JSON mode.\n",
      "Processing with DSPy:  88%|███████████████████████████████████████████████████████████████████████████▊          | 141/160 [02:13<00:17,  1.07it/s]2025/08/16 13:37:26 WARNING dspy.adapters.json_adapter: Failed to use structured output format, falling back to JSON mode.\n",
      "Processing with DSPy:  89%|████████████████████████████████████████████████████████████████████████████▎         | 142/160 [02:14<00:18,  1.01s/it]2025/08/16 13:37:28 WARNING dspy.adapters.json_adapter: Failed to use structured output format, falling back to JSON mode.\n",
      "Processing with DSPy:  89%|████████████████████████████████████████████████████████████████████████████▊         | 143/160 [02:15<00:16,  1.01it/s]2025/08/16 13:37:29 WARNING dspy.adapters.json_adapter: Failed to use structured output format, falling back to JSON mode.\n",
      "Processing with DSPy:  90%|█████████████████████████████████████████████████████████████████████████████▍        | 144/160 [02:16<00:15,  1.04it/s]2025/08/16 13:37:29 WARNING dspy.adapters.json_adapter: Failed to use structured output format, falling back to JSON mode.\n",
      "Processing with DSPy:  91%|█████████████████████████████████████████████████████████████████████████████▉        | 145/160 [02:17<00:13,  1.10it/s]2025/08/16 13:37:30 WARNING dspy.adapters.json_adapter: Failed to use structured output format, falling back to JSON mode.\n",
      "Processing with DSPy:  91%|██████████████████████████████████████████████████████████████████████████████▍       | 146/160 [02:18<00:14,  1.07s/it]2025/08/16 13:37:32 WARNING dspy.adapters.json_adapter: Failed to use structured output format, falling back to JSON mode.\n",
      "Processing with DSPy:  92%|███████████████████████████████████████████████████████████████████████████████       | 147/160 [02:18<00:10,  1.20it/s]2025/08/16 13:37:32 WARNING dspy.adapters.json_adapter: Failed to use structured output format, falling back to JSON mode.\n",
      "Processing with DSPy:  92%|███████████████████████████████████████████████████████████████████████████████▌      | 148/160 [02:20<00:11,  1.03it/s]2025/08/16 13:37:33 WARNING dspy.adapters.json_adapter: Failed to use structured output format, falling back to JSON mode.\n",
      "Processing with DSPy:  93%|████████████████████████████████████████████████████████████████████████████████      | 149/160 [02:20<00:08,  1.31it/s]2025/08/16 13:37:33 WARNING dspy.adapters.json_adapter: Failed to use structured output format, falling back to JSON mode.\n",
      "Processing with DSPy:  94%|████████████████████████████████████████████████████████████████████████████████▋     | 150/160 [02:22<00:11,  1.13s/it]2025/08/16 13:37:35 WARNING dspy.adapters.json_adapter: Failed to use structured output format, falling back to JSON mode.\n",
      "Processing with DSPy:  94%|█████████████████████████████████████████████████████████████████████████████████▏    | 151/160 [02:22<00:07,  1.17it/s]2025/08/16 13:37:36 WARNING dspy.adapters.json_adapter: Failed to use structured output format, falling back to JSON mode.\n",
      "Processing with DSPy:  95%|█████████████████████████████████████████████████████████████████████████████████▋    | 152/160 [02:24<00:08,  1.04s/it]2025/08/16 13:37:37 WARNING dspy.adapters.json_adapter: Failed to use structured output format, falling back to JSON mode.\n",
      "Processing with DSPy:  96%|██████████████████████████████████████████████████████████████████████████████████▏   | 153/160 [02:24<00:06,  1.06it/s]2025/08/16 13:37:38 WARNING dspy.adapters.json_adapter: Failed to use structured output format, falling back to JSON mode.\n",
      "Processing with DSPy:  96%|██████████████████████████████████████████████████████████████████████████████████▊   | 154/160 [02:26<00:07,  1.20s/it]2025/08/16 13:37:40 WARNING dspy.adapters.json_adapter: Failed to use structured output format, falling back to JSON mode.\n",
      "2025/08/16 13:37:40 WARNING dspy.adapters.json_adapter: Failed to use structured output format, falling back to JSON mode.\n",
      "Processing with DSPy:  98%|███████████████████████████████████████████████████████████████████████████████████▊  | 156/160 [02:28<00:03,  1.06it/s]2025/08/16 13:37:41 WARNING dspy.adapters.json_adapter: Failed to use structured output format, falling back to JSON mode.\n",
      "Processing with DSPy: 100%|██████████████████████████████████████████████████████████████████████████████████████| 160/160 [02:31<00:00,  1.05it/s]\n"
     ]
    }
   ],
   "source": [
    "dspy_config = {\n",
    "      \"model_name\": \"anthropic/claude-opus-4-20250514\",\n",
    "      \"api_key\": secrets[\"ANTHROPIC_API_KEY\"],\n",
    "      \"temperature\": 0\n",
    "}\n",
    "\n",
    "gold_standard_judge_generator_module = dspy.ChainOfThought(SupportTranscriptJudge)\n",
    "\n",
    "gold_standard_dspy_judge_processor = ParallelProcessor()\n",
    "\n",
    "dspy_judge_results_optimized = gold_standard_dspy_judge_processor.process_dataset_with_dspy(\n",
    "  judge_dataset.select_columns(\n",
    "    [\"conversation_id\",\"output_transcript\"]\n",
    "  ),\n",
    "  input_field=\"output_transcript\",\n",
    "  dspy_module=gold_standard_judge_generator_module,\n",
    "  dspy_config=dspy_config\n",
    ")"
   ]
  },
  {
   "cell_type": "code",
   "execution_count": null,
   "id": "ccbc4493-f361-4cf3-b9f6-b8913cfb276b",
   "metadata": {},
   "outputs": [],
   "source": [
    "dspy_judge_results_optimized.to_pandas().iloc[0][\"dspy_response\"]"
   ]
  },
  {
   "cell_type": "code",
   "execution_count": 10,
   "id": "9999771b-7875-4326-a7e1-d2bc0f59d550",
   "metadata": {},
   "outputs": [
    {
     "name": "stderr",
     "output_type": "stream",
     "text": [
      "Map: 100%|█████████████████████████████████████████████████████████████████████████████████████████████| 160/160 [00:00<00:00, 11047.45 examples/s]\n"
     ]
    }
   ],
   "source": [
    "gold_standard_dspy_judge_results = dspy_judge_results_optimized.map(\n",
    "    extract_llm_response_fields_dspy\n",
    ")"
   ]
  },
  {
   "cell_type": "code",
   "execution_count": 11,
   "id": "2d41c690-f6d6-4645-99da-8569996b6113",
   "metadata": {},
   "outputs": [
    {
     "data": {
      "text/plain": [
       "Dataset({\n",
       "    features: ['conversation_id', 'output_transcript', 'dspy_response', 'dspy_metadata', 'explanation', 'satisfied'],\n",
       "    num_rows: 160\n",
       "})"
      ]
     },
     "execution_count": 11,
     "metadata": {},
     "output_type": "execute_result"
    }
   ],
   "source": [
    "gold_standard_dspy_judge_results"
   ]
  },
  {
   "cell_type": "code",
   "execution_count": 12,
   "id": "dbcb04fe-b535-48ec-9f66-5534675b5970",
   "metadata": {
    "scrolled": true
   },
   "outputs": [
    {
     "data": {
      "image/png": "[encoded data removed]",
      "text/plain": [
       "<Figure size 640x480 with 1 Axes>"
      ]
     },
     "metadata": {},
     "output_type": "display_data"
    }
   ],
   "source": [
    "plot_judge_results(\n",
    "    gold_standard_dspy_judge_results.to_pandas()\n",
    ")"
   ]
  },
  {
   "cell_type": "markdown",
   "id": "4f852fab-0159-41b2-a103-ab7e4ff5a095",
   "metadata": {},
   "source": [
    "## Save gold standard result"
   ]
  },
  {
   "cell_type": "code",
   "execution_count": null,
   "id": "7ff86b97-0d6f-4122-9d1d-0d1a1c3d0f49",
   "metadata": {},
   "outputs": [],
   "source": [
    "data_loader.save_dataset_locally(\n",
    "    dspy_gold_standard_judge_results,\"datasets/gold_standard_judge_result\"\n",
    ")"
   ]
  }
 ],
 "metadata": {
  "kernelspec": {
   "display_name": "Python 3 (ipykernel)",
   "language": "python",
   "name": "python3"
  },
  "language_info": {
   "codemirror_mode": {
    "name": "ipython",
    "version": 3
   },
   "file_extension": ".py",
   "mimetype": "text/x-python",
   "name": "python",
   "nbconvert_exporter": "python",
   "pygments_lexer": "ipython3",
   "version": "3.12.6"
  }
 },
 "nbformat": 4,
 "nbformat_minor": 5
}
