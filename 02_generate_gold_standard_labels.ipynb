{
 "cells": [
  {
   "cell_type": "markdown",
   "id": "5b0459d2-1c1c-4fb0-a7a3-2339fe0e131e",
   "metadata": {},
   "source": [
    "# Gold standard judge dataset\n",
    "This is the equivalent of SME labelling"
   ]
  },
  {
   "cell_type": "code",
   "execution_count": null,
   "id": "b0d29216-d581-43cf-a87c-2a23fc733e21",
   "metadata": {},
   "outputs": [],
   "source": [
    "%load_ext autoreload\n",
    "%autoreload 2"
   ]
  },
  {
   "cell_type": "code",
   "execution_count": null,
   "id": "31545599-043c-40db-9248-6026414447eb",
   "metadata": {},
   "outputs": [],
   "source": [
    "from dspy_judge.llm_caller.utils import load_secrets\n",
    "from dspy_judge.data_loader.dataset_loader import CustomerSupportDatasetLoader\n",
    "from dspy_judge.processor.parallel_processor import ParallelProcessor\n",
    "from dspy_judge.prompts.dspy_signatures import SupportTranscriptJudge\n",
    "from dspy_judge.processor.utils import convert_dataset_to_dspy_examples, extract_llm_response_fields_dspy\n",
    "from dspy_judge.processor.parallel_processor import ParallelProcessor\n",
    "from dspy_judge.metrics import match_judge_metric\n",
    "from dspy_judge.plotting import plot_judge_results\n",
    "import numpy as np\n",
    "from sklearn.metrics import cohen_kappa_score\n",
    "import dspy"
   ]
  },
  {
   "cell_type": "code",
   "execution_count": null,
   "id": "a8f39106-9099-485f-9c93-0cab2691f222",
   "metadata": {},
   "outputs": [],
   "source": [
    "secrets = load_secrets()"
   ]
  },
  {
   "cell_type": "markdown",
   "id": "ca471612-07ac-4c2b-9c39-423b35b9081e",
   "metadata": {},
   "source": [
    "## Load split dataset (final output of notebook 1)"
   ]
  },
  {
   "cell_type": "code",
   "execution_count": null,
   "id": "ff61ef2b-e68b-4a46-8ff9-bab0a7a6aa36",
   "metadata": {},
   "outputs": [],
   "source": [
    "data_loader = CustomerSupportDatasetLoader()\n",
    "split_dataset = data_loader.load_local_dataset(\"datasets/preprocessed_dev_judge_dataset_split/\")"
   ]
  },
  {
   "cell_type": "code",
   "execution_count": null,
   "id": "9eb222c2-7cd1-4df3-a7fb-287c7dc3e043",
   "metadata": {},
   "outputs": [],
   "source": [
    "dev_dataset = split_dataset[\"train\"]\n",
    "judge_dataset = split_dataset[\"test\"]"
   ]
  },
  {
   "cell_type": "markdown",
   "id": "03d686d0-8cb2-45ff-a8d0-221f70167227",
   "metadata": {},
   "source": [
    "## Set up gold standard judge"
   ]
  },
  {
   "cell_type": "code",
   "execution_count": null,
   "id": "b363a5b5-ee79-4bfb-ac39-7ba8e06a5821",
   "metadata": {},
   "outputs": [],
   "source": [
    "gold_standard_judge_generator_module = dspy.ChainOfThought(SupportTranscriptJudge)"
   ]
  },
  {
   "cell_type": "code",
   "execution_count": null,
   "id": "8a0da501-a74d-4d82-a0e3-59d3e83b56fe",
   "metadata": {
    "scrolled": true
   },
   "outputs": [],
   "source": [
    "dspy_config = {\n",
    "      \"model_name\": \"anthropic/claude-opus-4-20250514\",\n",
    "      \"api_key\": secrets[\"ANTHROPIC_API_KEY\"],\n",
    "      \"temperature\": 0\n",
    "}\n",
    "\n",
    "gold_standard_judge_generator_module = dspy.ChainOfThought(SupportTranscriptJudge)\n",
    "\n",
    "gold_standard_dspy_judge_processor = ParallelProcessor()\n",
    "\n",
    "dspy_judge_results_optimized = gold_standard_dspy_judge_processor.process_dataset_with_dspy(\n",
    "  judge_dataset.select_columns(\n",
    "    [\"conversation_id\",\"output_transcript\"]\n",
    "  ),\n",
    "  input_field=\"output_transcript\",\n",
    "  dspy_module=gold_standard_judge_generator_module,\n",
    "  dspy_config=dspy_config\n",
    ")"
   ]
  },
  {
   "cell_type": "code",
   "execution_count": null,
   "id": "ccbc4493-f361-4cf3-b9f6-b8913cfb276b",
   "metadata": {},
   "outputs": [],
   "source": [
    "dspy_judge_results_optimized.to_pandas().iloc[0][\"dspy_response\"]"
   ]
  },
  {
   "cell_type": "code",
   "execution_count": null,
   "id": "9999771b-7875-4326-a7e1-d2bc0f59d550",
   "metadata": {},
   "outputs": [],
   "source": [
    "gold_standard_dspy_judge_results = dspy_judge_results_optimized.map(\n",
    "    extract_llm_response_fields_dspy\n",
    ")"
   ]
  },
  {
   "cell_type": "code",
   "execution_count": null,
   "id": "2d41c690-f6d6-4645-99da-8569996b6113",
   "metadata": {},
   "outputs": [],
   "source": [
    "gold_standard_dspy_judge_results"
   ]
  },
  {
   "cell_type": "code",
   "execution_count": null,
   "id": "dbcb04fe-b535-48ec-9f66-5534675b5970",
   "metadata": {
    "scrolled": true
   },
   "outputs": [],
   "source": [
    "plot_judge_results(\n",
    "    gold_standard_dspy_judge_results.to_pandas()\n",
    ")"
   ]
  },
  {
   "cell_type": "markdown",
   "id": "4f852fab-0159-41b2-a103-ab7e4ff5a095",
   "metadata": {},
   "source": [
    "## Save gold standard result"
   ]
  },
  {
   "cell_type": "code",
   "execution_count": null,
   "id": "7ff86b97-0d6f-4122-9d1d-0d1a1c3d0f49",
   "metadata": {},
   "outputs": [],
   "source": [
    "data_loader.save_dataset_locally(\n",
    "    gold_standard_dspy_judge_results,\"datasets/gold_standard_judge_result\"\n",
    ")"
   ]
  }
 ],
 "metadata": {
  "kernelspec": {
   "display_name": "Python 3 (ipykernel)",
   "language": "python",
   "name": "python3"
  },
  "language_info": {
   "codemirror_mode": {
    "name": "ipython",
    "version": 3
   },
   "file_extension": ".py",
   "mimetype": "text/x-python",
   "name": "python",
   "nbconvert_exporter": "python",
   "pygments_lexer": "ipython3",
   "version": "3.12.6"
  }
 },
 "nbformat": 4,
 "nbformat_minor": 5
}
