{
 "cells": [
  {
   "cell_type": "code",
   "execution_count": null,
   "id": "2c9ffcaf-1bef-4134-b58c-04a4571a9366",
   "metadata": {},
   "outputs": [],
   "source": [
    "%load_ext autoreload\n",
    "%autoreload 2"
   ]
  },
  {
   "cell_type": "code",
   "execution_count": null,
   "id": "ffb02557-6fe0-45cf-9bf6-519adb5b6e5b",
   "metadata": {},
   "outputs": [],
   "source": [
    "import pandas as pd\n",
    "from datasets import Dataset\n",
    "import seaborn as sns\n",
    "from dspy_judge.llm_caller.utils import load_secrets\n",
    "from dspy_judge.processor.parallel_processor import ParallelProcessor\n",
    "from dspy_judge.data_loader.dataset_loader import CustomerSupportDatasetLoader\n",
    "from dspy_judge.processor.utils import build_company_and_conversation_cols\n",
    "from dspy_judge.prompts.base_prompts import conversation_generation_system_prompt\n",
    "from dspy_judge.llm_caller import GeminiTextOutputCaller\n",
    "from pydantic import BaseModel, Field"
   ]
  },
  {
   "cell_type": "code",
   "execution_count": null,
   "id": "9921c46d-6f27-462a-bdca-c75a1f5ef9fc",
   "metadata": {},
   "outputs": [],
   "source": [
    "secrets = load_secrets()"
   ]
  },
  {
   "cell_type": "code",
   "execution_count": null,
   "id": "382cdf54-53c3-4858-ab90-656c078ed49f",
   "metadata": {},
   "outputs": [],
   "source": [
    "NSAMPLE = 5000\n",
    "# download this dataset from https://www.kaggle.com/datasets/aimack/customer-service-chat-data-30k-rows?resource=download\n",
    "conversation_data = pd.read_excel(\"datasets/Chat_Team_CaseStudy FINAL.xlsx\").dropna(\n",
    "    subset=[\"Text\"]\n",
    ")[[\"Session Name\", \"Text\"]]\n",
    "conversation_data[\"number_of_words\"] = conversation_data[\"Text\"].apply(lambda x: len(str(x).split()))\n",
    "example_conversations = conversation_data[\n",
    "    (conversation_data[\"number_of_words\"]>=20) & (conversation_data[\"number_of_words\"]<50)\n",
    "].sample(NSAMPLE, random_state=0)\n",
    "example_conversations = example_conversations.rename(\n",
    "    columns={\"Session Name\":\"conversation_id\"}\n",
    ")"
   ]
  },
  {
   "cell_type": "code",
   "execution_count": null,
   "id": "d3c7f9f9-6bce-41fd-87c6-8bb5b4cf3b2b",
   "metadata": {},
   "outputs": [],
   "source": [
    "sns.histplot(example_conversations[\"number_of_words\"])"
   ]
  },
  {
   "cell_type": "code",
   "execution_count": null,
   "id": "ff6baaa9-c754-4e04-89f5-7d246f7a3879",
   "metadata": {},
   "outputs": [],
   "source": [
    "example_conversations_dataset = Dataset.from_pandas(example_conversations.reset_index(drop=True))"
   ]
  },
  {
   "cell_type": "code",
   "execution_count": null,
   "id": "82899062-b1f8-4acf-bfff-4930ddbeb922",
   "metadata": {},
   "outputs": [],
   "source": [
    "example_conversations_dataset"
   ]
  },
  {
   "cell_type": "markdown",
   "id": "e91c98ce-f529-48c8-8dab-7092a6bd6b90",
   "metadata": {},
   "source": [
    "## Build the input dataset"
   ]
  },
  {
   "cell_type": "code",
   "execution_count": null,
   "id": "1b48565b-7529-4c74-94d9-197b9d528ee6",
   "metadata": {},
   "outputs": [],
   "source": [
    "baseline_model_name = \"gemini-2.5-flash\"\n",
    "baseline_model = GeminiTextOutputCaller(api_key=secrets[\"GEMINI_API_KEY\"])\n",
    "baseline_processor = ParallelProcessor(baseline_model, max_workers=4)\n",
    "baseline_results = baseline_processor.process_dataset(\n",
    "        example_conversations_dataset,\n",
    "        system_prompt=conversation_generation_system_prompt ,\n",
    "        model_name=baseline_model_name,\n",
    "        input_field=\"Text\",\n",
    "        temperature=1.0\n",
    "    )"
   ]
  },
  {
   "cell_type": "code",
   "execution_count": null,
   "id": "85b43814-0d49-49ec-b530-b270c0a0ce35",
   "metadata": {},
   "outputs": [],
   "source": [
    "synthetic_dataset = baseline_results.map(build_company_and_conversation_cols)"
   ]
  },
  {
   "cell_type": "code",
   "execution_count": null,
   "id": "6925f247-84dc-4722-aab6-b667b3e09468",
   "metadata": {},
   "outputs": [],
   "source": [
    "synthetic_dataset.save_to_disk(\"datasets/airline_support_conversations\")"
   ]
  }
 ],
 "metadata": {
  "kernelspec": {
   "display_name": "Python 3 (ipykernel)",
   "language": "python",
   "name": "python3"
  },
  "language_info": {
   "codemirror_mode": {
    "name": "ipython",
    "version": 3
   },
   "file_extension": ".py",
   "mimetype": "text/x-python",
   "name": "python",
   "nbconvert_exporter": "python",
   "pygments_lexer": "ipython3",
   "version": "3.12.6"
  }
 },
 "nbformat": 4,
 "nbformat_minor": 5
}
