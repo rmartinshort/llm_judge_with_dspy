{
 "cells": [
  {
   "cell_type": "markdown",
   "id": "1e2c15a0-c61c-40ed-a9a8-855993455499",
   "metadata": {},
   "source": [
    "# Load data, preprocess and run baseline prompt"
   ]
  },
  {
   "cell_type": "code",
   "execution_count": null,
   "id": "e7f17b35-6e5d-4c90-95ee-f5e512eccc41",
   "metadata": {},
   "outputs": [],
   "source": [
    "%load_ext autoreload\n",
    "%autoreload 2"
   ]
  },
  {
   "cell_type": "code",
   "execution_count": null,
   "id": "1201e481-bc5c-4b95-8479-d8597fbb5735",
   "metadata": {},
   "outputs": [],
   "source": [
    "from dspy_judge.llm_caller.utils import load_secrets\n",
    "from dspy_judge.data_loader.dataset_loader import CustomerSupportDatasetLoader\n",
    "from dspy_judge.llm_caller import AnthropicStructuredOutputCaller, OpenAITextOutputCaller, GeminiStructuredOutputCaller\n",
    "from dspy_judge.processor.parallel_processor import ParallelProcessor\n",
    "from dspy_judge.prompts.pydantic_models import JudgeResponse\n",
    "from dspy_judge.processor.utils import extract_llm_response_fields, concat_company_and_conversation, concat_latest_response, concat_latest_response_dspy\n",
    "from dspy_judge.prompts.dspy_signatures import SupportTranscriptNextResponse\n",
    "from dspy_judge.processor.conversation_truncator import ConversationTruncator\n",
    "from dspy_judge.prompts.base_prompts import baseline_customer_response_support_system_prompt\n",
    "import dspy\n",
    "import seaborn as sns\n",
    "import textstat\n",
    "import matplotlib.pyplot as plt"
   ]
  },
  {
   "cell_type": "code",
   "execution_count": null,
   "id": "2d58c81a-8a4d-446b-b50e-606ba666a1c2",
   "metadata": {},
   "outputs": [],
   "source": [
    "secrets = load_secrets()"
   ]
  },
  {
   "cell_type": "markdown",
   "id": "d003416c-3a79-414c-ae82-5859fcd72ff7",
   "metadata": {},
   "source": [
    "## Load conversations"
   ]
  },
  {
   "cell_type": "code",
   "execution_count": null,
   "id": "229d9917-5949-4377-ba9e-1b6f13ba1439",
   "metadata": {},
   "outputs": [],
   "source": [
    "data_loader = CustomerSupportDatasetLoader()"
   ]
  },
  {
   "cell_type": "code",
   "execution_count": null,
   "id": "93473684-14ce-429f-971d-1ba010de389a",
   "metadata": {},
   "outputs": [],
   "source": [
    "dataset = data_loader.load_dataset(split=\"train\")"
   ]
  },
  {
   "cell_type": "code",
   "execution_count": null,
   "id": "a7f650f4-84af-443c-9731-3fc353ec3d13",
   "metadata": {},
   "outputs": [],
   "source": [
    "dataset[4]"
   ]
  },
  {
   "cell_type": "code",
   "execution_count": null,
   "id": "59d8eef2-4cdb-42d6-bd85-d2c64648998d",
   "metadata": {},
   "outputs": [],
   "source": [
    "print(\"Customer: Trying to sort out a friend's return flight from Heathrow but no luck with the usual telephone number. I thought somebody posted another number some time ago but I've searched and can't find anything.\\nSupport:  The main number is 800-433-7300.  What information do you need regarding your friend's flight?  A confirmation number would be helpful.\\nCustomer:  I don't have a confirmation number.  It's for a friend; I only have her name and the approximate travel dates – sometime in October.  Is there another way to track this down?\\nSupport:  Unfortunately, without a confirmation number or more precise dates, tracking her flight is impossible.  Have her check her email inbox for a confirmation.  If she can't find it, she should contact us directly.\")"
   ]
  },
  {
   "cell_type": "code",
   "execution_count": null,
   "id": "7335a88f-4ad5-4170-b75f-c16047843f7a",
   "metadata": {},
   "outputs": [],
   "source": [
    "processed_dataset = data_loader.preprocess_dataset(dataset)"
   ]
  },
  {
   "cell_type": "code",
   "execution_count": null,
   "id": "c96d57da-fc55-47e0-848f-04d4eaaa9803",
   "metadata": {},
   "outputs": [],
   "source": [
    "data_loader.save_dataset_locally(processed_dataset,\"datasets/preprocessed_full_dataset\")"
   ]
  },
  {
   "cell_type": "code",
   "execution_count": null,
   "id": "d8f8b4cd-8332-4040-8aa9-1c444d6b40e9",
   "metadata": {},
   "outputs": [],
   "source": [
    "pre_processed_loaded  = data_loader.load_local_dataset(\"datasets/preprocessed_full_dataset\")"
   ]
  },
  {
   "cell_type": "markdown",
   "id": "e1c4d17e-db33-42a6-95ac-e5ee6998f63b",
   "metadata": {},
   "source": [
    "## Truncate conversations"
   ]
  },
  {
   "cell_type": "code",
   "execution_count": null,
   "id": "a9c268e7-36b1-40c2-8933-383416d201f1",
   "metadata": {},
   "outputs": [],
   "source": [
    "truncator = ConversationTruncator(seed=101)\n",
    "truncated_dataset = truncator.process_dataset(\n",
    "    pre_processed_loaded,\n",
    "    min_turns=1,\n",
    "    ensure_customer_last=True\n",
    ")\n",
    "truncated_dataset = truncated_dataset.map(concat_company_and_conversation)"
   ]
  },
  {
   "cell_type": "code",
   "execution_count": null,
   "id": "7febf313-b8aa-4859-97f8-3e0f07681a5f",
   "metadata": {},
   "outputs": [],
   "source": [
    "data_loader.save_dataset_locally(truncated_dataset,\"datasets/preprocessed_full_dataset_truncated\")"
   ]
  },
  {
   "cell_type": "code",
   "execution_count": null,
   "id": "e4eb86b6-67d4-447f-939a-6113ad650379",
   "metadata": {},
   "outputs": [],
   "source": [
    "truncated_loaded_sampled = data_loader.get_sample(truncated_dataset,n_samples=400,seed=10)"
   ]
  },
  {
   "cell_type": "code",
   "execution_count": null,
   "id": "991714d6-0322-4837-8229-4346de13ed0b",
   "metadata": {},
   "outputs": [],
   "source": [
    "truncated_loaded_sampled"
   ]
  },
  {
   "cell_type": "markdown",
   "id": "60988dde-e01e-45a9-9368-a165ba96ef9b",
   "metadata": {},
   "source": [
    "## Run baseline model\n",
    "\n",
    "### Option 1: dspy generation\n"
   ]
  },
  {
   "cell_type": "code",
   "execution_count": null,
   "id": "a406e770-edae-4e72-b35a-90eab25105f1",
   "metadata": {
    "scrolled": true
   },
   "outputs": [],
   "source": [
    "# Create DSPy configuration for multiprocessing\n",
    "dspy_config = {\n",
    "  \"model_name\": \"openai/gpt-3.5-turbo\",\n",
    "  \"api_key\": secrets[\"OPENAI_API_KEY\"],\n",
    "  \"signature_class\": SupportTranscriptNextResponse,\n",
    "  \"temperature\": 1\n",
    "}\n",
    "\n",
    "support_transcript_generator_module = dspy.ChainOfThought(SupportTranscriptNextResponse)\n",
    "\n",
    "# Initialize processor with both module and config\n",
    "dspy_judge_processor = ParallelProcessor()\n",
    "\n",
    "# Now this should work without pickling errors\n",
    "dspy_judge_results = dspy_judge_processor.process_dataset_with_dspy(\n",
    "  truncated_loaded_sampled,\n",
    "  input_field=\"company_and_transcript\",\n",
    "  dspy_module=support_transcript_generator_module,\n",
    "  dspy_config=dspy_config\n",
    ")"
   ]
  },
  {
   "cell_type": "code",
   "execution_count": null,
   "id": "b7a5d96d-3ea2-4079-8940-15d1bade37de",
   "metadata": {},
   "outputs": [],
   "source": [
    "dspy_baseline_results = dspy_judge_results.map(concat_latest_response_dspy)"
   ]
  },
  {
   "cell_type": "code",
   "execution_count": null,
   "id": "6d9cd05c-3a10-4b98-8b9c-3a39802b2391",
   "metadata": {},
   "outputs": [],
   "source": [
    "dspy_baseline_output_pd = dspy_baseline_results.to_pandas()"
   ]
  },
  {
   "cell_type": "code",
   "execution_count": null,
   "id": "5337250d-c5af-46cb-95a5-043086e9f5e1",
   "metadata": {},
   "outputs": [],
   "source": [
    "dspy_baseline_output_pd[\"count_words_response\"] = dspy_baseline_output_pd[\"dspy_response\"].apply(\n",
    "    lambda x: len(x[\"llm_response\"].split())\n",
    ")\n",
    "dspy_baseline_output_pd[\"output_readability\"] = dspy_baseline_output_pd[\"dspy_response\"].apply(\n",
    "    lambda x: textstat.flesch_reading_ease(x[\"llm_response\"])\n",
    ")"
   ]
  },
  {
   "cell_type": "code",
   "execution_count": null,
   "id": "45b57d45-615c-42d5-983e-e91e8f098b02",
   "metadata": {},
   "outputs": [],
   "source": [
    "sns.displot(data=dspy_baseline_output_pd,x=\"count_words_response\")"
   ]
  },
  {
   "cell_type": "code",
   "execution_count": null,
   "id": "daa4c84c-e799-4ecb-a030-42549ed499b8",
   "metadata": {},
   "outputs": [],
   "source": [
    "sns.displot(data=dspy_baseline_output_pd,x=\"output_readability\")"
   ]
  },
  {
   "cell_type": "markdown",
   "id": "f47859a7-f1f0-4c6e-9d88-2a0f30c58f82",
   "metadata": {},
   "source": [
    "### Option 2: Generate using traditional approach"
   ]
  },
  {
   "cell_type": "code",
   "execution_count": null,
   "id": "a034e62a-065f-436e-8d0c-7825bd7d88eb",
   "metadata": {},
   "outputs": [],
   "source": [
    "baseline_model_name = \"gpt-3.5-turbo\"\n",
    "baseline_model = OpenAITextOutputCaller(api_key=secrets[\"OPENAI_API_KEY\"])\n",
    "baseline_processor = ParallelProcessor(baseline_model, max_workers=4)\n",
    "baseline_results = baseline_processor.process_dataset(\n",
    "        truncated_loaded_sampled,\n",
    "        system_prompt=baseline_customer_response_support_system_prompt,\n",
    "        model_name=baseline_model_name,\n",
    "        input_field=\"company_and_transcript\",\n",
    "        temperature=1.0\n",
    "    )"
   ]
  },
  {
   "cell_type": "code",
   "execution_count": null,
   "id": "59e68564-bb17-4892-b54a-71c9c5552ed3",
   "metadata": {},
   "outputs": [],
   "source": [
    "baseline_results = baseline_results.map(concat_latest_response)"
   ]
  },
  {
   "cell_type": "code",
   "execution_count": null,
   "id": "c4515d47-4453-4728-a0f0-45565ad5ed38",
   "metadata": {},
   "outputs": [],
   "source": [
    "baseline_results_pd = baseline_results.to_pandas()"
   ]
  },
  {
   "cell_type": "code",
   "execution_count": null,
   "id": "c0faf816-3fc2-4ca5-a2ed-76748ba77298",
   "metadata": {},
   "outputs": [],
   "source": [
    "baseline_results_pd[\"count_words_response\"] = baseline_results_pd[\"llm_response\"].apply(lambda x: len(x.split()))\n",
    "baseline_results_pd[\"output_readability\"] = baseline_results_pd[\"llm_response\"].apply(lambda x: textstat.flesch_reading_ease(x))"
   ]
  },
  {
   "cell_type": "code",
   "execution_count": null,
   "id": "8c3a4cce-b978-4dec-a585-207323e48725",
   "metadata": {},
   "outputs": [],
   "source": [
    "sns.displot(data=baseline_results_pd,x=\"count_words_response\")"
   ]
  },
  {
   "cell_type": "code",
   "execution_count": null,
   "id": "a90da079-8a39-4a61-b4a1-836df22aad9e",
   "metadata": {},
   "outputs": [],
   "source": [
    "sns.displot(data=baseline_results_pd,x=\"output_readability\")"
   ]
  },
  {
   "cell_type": "markdown",
   "id": "80a8624f-acfb-4b61-a299-19e63aab8aae",
   "metadata": {},
   "source": [
    "## Split the output dataset\n",
    "\n",
    "Train will be the dev dataset, test will be the dataset we'll use for judge validation"
   ]
  },
  {
   "cell_type": "code",
   "execution_count": null,
   "id": "367faa02-49a7-4819-b421-7abee76477e5",
   "metadata": {},
   "outputs": [],
   "source": [
    "split_ds = dspy_baseline_results.train_test_split(test_size=0.4, seed=10)"
   ]
  },
  {
   "cell_type": "code",
   "execution_count": null,
   "id": "574f91ff-ca2d-4a4d-a997-98ee2f4c891b",
   "metadata": {},
   "outputs": [],
   "source": [
    "data_loader.save_dataset_locally(split_ds,\"datasets/preprocessed_dev_judge_dataset_split\")"
   ]
  }
 ],
 "metadata": {
  "kernelspec": {
   "display_name": "Python 3 (ipykernel)",
   "language": "python",
   "name": "python3"
  },
  "language_info": {
   "codemirror_mode": {
    "name": "ipython",
    "version": 3
   },
   "file_extension": ".py",
   "mimetype": "text/x-python",
   "name": "python",
   "nbconvert_exporter": "python",
   "pygments_lexer": "ipython3",
   "version": "3.12.6"
  }
 },
 "nbformat": 4,
 "nbformat_minor": 5
}
