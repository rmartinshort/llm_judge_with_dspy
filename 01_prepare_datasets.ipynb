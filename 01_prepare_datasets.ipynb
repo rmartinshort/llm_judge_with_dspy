{
 "cells": [
  {
   "cell_type": "markdown",
   "id": "1e2c15a0-c61c-40ed-a9a8-855993455499",
   "metadata": {},
   "source": [
    "# Load data, preprocess and run baseline prompt"
   ]
  },
  {
   "cell_type": "code",
   "execution_count": 1,
   "id": "e7f17b35-6e5d-4c90-95ee-f5e512eccc41",
   "metadata": {},
   "outputs": [],
   "source": [
    "%load_ext autoreload\n",
    "%autoreload 2"
   ]
  },
  {
   "cell_type": "code",
   "execution_count": 3,
   "id": "1201e481-bc5c-4b95-8479-d8597fbb5735",
   "metadata": {},
   "outputs": [],
   "source": [
    "from dspy_judge.llm_caller.utils import load_secrets\n",
    "from dspy_judge.data_loader.dataset_loader import CustomerSupportDatasetLoader\n",
    "from dspy_judge.llm_caller import AnthropicStructuredOutputCaller, OpenAITextOutputCaller, GeminiStructuredOutputCaller\n",
    "from dspy_judge.processor.parallel_processor import ParallelProcessor\n",
    "from dspy_judge.prompts.pydantic_models import JudgeResponse\n",
    "from dspy_judge.processor.utils import extract_llm_response_fields, concat_company_and_conversation, concat_latest_response, concat_latest_response_dspy\n",
    "from dspy_judge.prompts.dspy_signatures import SupportTranscriptNextResponse\n",
    "from dspy_judge.processor.conversation_truncator import ConversationTruncator\n",
    "from dspy_judge.prompts.base_prompts import baseline_customer_response_support_system_prompt\n",
    "import dspy\n",
    "import seaborn as sns\n",
    "import textstat\n",
    "import matplotlib.pyplot as plt"
   ]
  },
  {
   "cell_type": "code",
   "execution_count": 4,
   "id": "2d58c81a-8a4d-446b-b50e-606ba666a1c2",
   "metadata": {},
   "outputs": [],
   "source": [
    "secrets = load_secrets()"
   ]
  },
  {
   "cell_type": "markdown",
   "id": "d003416c-3a79-414c-ae82-5859fcd72ff7",
   "metadata": {},
   "source": [
    "## Load conversations"
   ]
  },
  {
   "cell_type": "code",
   "execution_count": 5,
   "id": "229d9917-5949-4377-ba9e-1b6f13ba1439",
   "metadata": {},
   "outputs": [],
   "source": [
    "data_loader = CustomerSupportDatasetLoader()"
   ]
  },
  {
   "cell_type": "code",
   "execution_count": 6,
   "id": "93473684-14ce-429f-971d-1ba010de389a",
   "metadata": {},
   "outputs": [
    {
     "name": "stdout",
     "output_type": "stream",
     "text": [
      "Loading dataset TNE-AI/customer-support-on-twitter-conversation (split: train)...\n"
     ]
    },
    {
     "name": "stderr",
     "output_type": "stream",
     "text": [
      "Generating train split: 100%|██████████████████████████████████████████████████████████████████| 794335/794335 [00:00<00:00, 2376817.45 examples/s]"
     ]
    },
    {
     "name": "stdout",
     "output_type": "stream",
     "text": [
      "Dataset loaded successfully. Size: 794335\n"
     ]
    },
    {
     "name": "stderr",
     "output_type": "stream",
     "text": [
      "\n"
     ]
    }
   ],
   "source": [
    "dataset = data_loader.load_dataset(split=\"train\")"
   ]
  },
  {
   "cell_type": "code",
   "execution_count": 22,
   "id": "a7f650f4-84af-443c-9731-3fc353ec3d13",
   "metadata": {},
   "outputs": [
    {
     "data": {
      "text/plain": [
       "{'conversation_id': '96cdb78ceae061a11092da35a6777622',\n",
       " 'company': 'AmericanAir',\n",
       " 'conversation': \"Customer: cld you pls update passengers of AA5 from DFW as to status of 2nd plane on this service after mech failure? Are we flying out?\\nSupport: We know you're anxious to be on your way. We'll have an update on AA5 at 7p. Thanks for your patience.\\nCustomer: another half hour added to terminal monitor. 7.5 hr delay on AA5. One $12 meal voucher. Abominably poor communication. Cmon AA!\\nCustomer: @AmericanAir OMG, the same thing happened today and nearly 8 hours sort it out.\\nSupport: Please have them reach out to us directly so we can take a look at this.\",\n",
       " 'summary': ''}"
      ]
     },
     "execution_count": 22,
     "metadata": {},
     "output_type": "execute_result"
    }
   ],
   "source": [
    "dataset[140]"
   ]
  },
  {
   "cell_type": "code",
   "execution_count": 7,
   "id": "7335a88f-4ad5-4170-b75f-c16047843f7a",
   "metadata": {},
   "outputs": [
    {
     "name": "stderr",
     "output_type": "stream",
     "text": [
      "Filter: 100%|████████████████████████████████████████████████████████████████████████████████████████████████████████████████| 794335/794335 [00:02<00:00, 372613.90 examples/s]\n",
      "Map: 100%|████████████████████████████████████████████████████████████████████████████████████████████████████████████████████| 773541/773541 [00:19<00:00, 39631.82 examples/s]\n",
      "Map: 100%|█████████████████████████████████████████████████████████████████████████████████████████████████████████████████████| 773541/773541 [12:40<00:00, 1016.56 examples/s]\n"
     ]
    }
   ],
   "source": [
    "processed_dataset = data_loader.preprocess_dataset(dataset)"
   ]
  },
  {
   "cell_type": "code",
   "execution_count": 8,
   "id": "c96d57da-fc55-47e0-848f-04d4eaaa9803",
   "metadata": {},
   "outputs": [
    {
     "name": "stderr",
     "output_type": "stream",
     "text": [
      "Saving the dataset (1/1 shards): 100%|███████████████████████████████████████████████████████████████████████████████████████| 773541/773541 [00:00<00:00, 808058.63 examples/s]"
     ]
    },
    {
     "name": "stdout",
     "output_type": "stream",
     "text": [
      "Dataset saved to datasets/preprocessed_full_dataset\n"
     ]
    },
    {
     "name": "stderr",
     "output_type": "stream",
     "text": [
      "\n"
     ]
    }
   ],
   "source": [
    "data_loader.save_dataset_locally(processed_dataset,\"datasets/preprocessed_full_dataset\")"
   ]
  },
  {
   "cell_type": "code",
   "execution_count": 9,
   "id": "d8f8b4cd-8332-4040-8aa9-1c444d6b40e9",
   "metadata": {},
   "outputs": [
    {
     "name": "stdout",
     "output_type": "stream",
     "text": [
      "Local dataset loaded from datasets/preprocessed_full_dataset. Size: 773541\n"
     ]
    }
   ],
   "source": [
    "pre_processed_loaded  = data_loader.load_local_dataset(\"datasets/preprocessed_full_dataset\")"
   ]
  },
  {
   "cell_type": "markdown",
   "id": "e1c4d17e-db33-42a6-95ac-e5ee6998f63b",
   "metadata": {},
   "source": [
    "## Truncate conversations"
   ]
  },
  {
   "cell_type": "code",
   "execution_count": 15,
   "id": "a9c268e7-36b1-40c2-8933-383416d201f1",
   "metadata": {},
   "outputs": [
    {
     "name": "stderr",
     "output_type": "stream",
     "text": [
      "Map: 100%|████████████████████████████████████████████████████████████████████████████████████████████████████████████████████| 773541/773541 [00:17<00:00, 43713.90 examples/s]\n"
     ]
    }
   ],
   "source": [
    "truncator = ConversationTruncator(seed=101)\n",
    "truncated_dataset = truncator.process_dataset(\n",
    "    pre_processed_loaded,\n",
    "    min_turns=1,\n",
    "    ensure_customer_last=True\n",
    ")\n",
    "truncated_dataset = truncated_dataset.map(concat_company_and_conversation)"
   ]
  },
  {
   "cell_type": "code",
   "execution_count": 16,
   "id": "7febf313-b8aa-4859-97f8-3e0f07681a5f",
   "metadata": {},
   "outputs": [
    {
     "name": "stderr",
     "output_type": "stream",
     "text": [
      "Saving the dataset (2/2 shards): 100%|███████████████████████████████████████████████████████████████████████████████████████| 773541/773541 [00:01<00:00, 429830.47 examples/s]"
     ]
    },
    {
     "name": "stdout",
     "output_type": "stream",
     "text": [
      "Dataset saved to datasets/preprocessed_full_dataset_truncated\n"
     ]
    },
    {
     "name": "stderr",
     "output_type": "stream",
     "text": [
      "\n"
     ]
    }
   ],
   "source": [
    "data_loader.save_dataset_locally(truncated_dataset,\"datasets/preprocessed_full_dataset_truncated\")"
   ]
  },
  {
   "cell_type": "code",
   "execution_count": 17,
   "id": "e4eb86b6-67d4-447f-939a-6113ad650379",
   "metadata": {},
   "outputs": [],
   "source": [
    "truncated_loaded_sampled = data_loader.get_sample(truncated_dataset,n_samples=400,seed=10)"
   ]
  },
  {
   "cell_type": "code",
   "execution_count": 18,
   "id": "991714d6-0322-4837-8229-4346de13ed0b",
   "metadata": {},
   "outputs": [
    {
     "data": {
      "text/plain": [
       "Dataset({\n",
       "    features: ['conversation_id', 'company', 'conversation', 'conversation_word_count', 'conversation_language', 'truncated_conversation', 'company_and_transcript'],\n",
       "    num_rows: 400\n",
       "})"
      ]
     },
     "execution_count": 18,
     "metadata": {},
     "output_type": "execute_result"
    }
   ],
   "source": [
    "truncated_loaded_sampled"
   ]
  },
  {
   "cell_type": "markdown",
   "id": "60988dde-e01e-45a9-9368-a165ba96ef9b",
   "metadata": {},
   "source": [
    "## Run baseline model\n",
    "\n",
    "### Option 1: dspy generation\n"
   ]
  },
  {
   "cell_type": "code",
   "execution_count": 51,
   "id": "a406e770-edae-4e72-b35a-90eab25105f1",
   "metadata": {
    "collapsed": true,
    "jupyter": {
     "outputs_hidden": true
    },
    "scrolled": true
   },
   "outputs": [
    {
     "name": "stdout",
     "output_type": "stream",
     "text": [
      "Processing 400 examples with 4 workers using DSPy...\n"
     ]
    },
    {
     "name": "stderr",
     "output_type": "stream",
     "text": [
      "Processing with DSPy:   0%|                                                                                                                             | 0/400 [00:00<?, ?it/s]2025/08/02 20:36:42 WARNING dspy.adapters.json_adapter: Failed to use structured output format, falling back to JSON mode.\n",
      "2025/08/02 20:36:42 WARNING dspy.adapters.json_adapter: Failed to use structured output format, falling back to JSON mode.\n",
      "2025/08/02 20:36:42 WARNING dspy.adapters.json_adapter: Failed to use structured output format, falling back to JSON mode.\n",
      "2025/08/02 20:36:42 WARNING dspy.adapters.json_adapter: Failed to use structured output format, falling back to JSON mode.\n",
      "2025/08/02 20:36:43 WARNING dspy.adapters.json_adapter: Failed to use structured output format, falling back to JSON mode.\n",
      "2025/08/02 20:36:43 WARNING dspy.adapters.json_adapter: Failed to use structured output format, falling back to JSON mode.\n",
      "Processing with DSPy:   0%|▎                                                                                                                    | 1/400 [00:03<26:09,  3.93s/it]2025/08/02 20:36:43 WARNING dspy.adapters.json_adapter: Failed to use structured output format, falling back to JSON mode.\n",
      "2025/08/02 20:36:43 WARNING dspy.adapters.json_adapter: Failed to use structured output format, falling back to JSON mode.\n",
      "Processing with DSPy:   1%|█▍                                                                                                                   | 5/400 [00:04<04:56,  1.33it/s]2025/08/02 20:36:44 WARNING dspy.adapters.json_adapter: Failed to use structured output format, falling back to JSON mode.\n",
      "2025/08/02 20:36:44 WARNING dspy.adapters.json_adapter: Failed to use structured output format, falling back to JSON mode.\n",
      "2025/08/02 20:36:44 WARNING dspy.adapters.json_adapter: Failed to use structured output format, falling back to JSON mode.\n",
      "Processing with DSPy:   2%|█▊                                                                                                                   | 6/400 [00:05<04:13,  1.55it/s]2025/08/02 20:36:44 WARNING dspy.adapters.json_adapter: Failed to use structured output format, falling back to JSON mode.\n",
      "2025/08/02 20:36:45 WARNING dspy.adapters.json_adapter: Failed to use structured output format, falling back to JSON mode.\n",
      "Processing with DSPy:   2%|██▋                                                                                                                  | 9/400 [00:05<02:56,  2.22it/s]2025/08/02 20:36:45 WARNING dspy.adapters.json_adapter: Failed to use structured output format, falling back to JSON mode.\n",
      "Processing with DSPy:   2%|██▉                                                                                                                 | 10/400 [00:05<02:35,  2.51it/s]2025/08/02 20:36:45 WARNING dspy.adapters.json_adapter: Failed to use structured output format, falling back to JSON mode.\n",
      "2025/08/02 20:36:45 WARNING dspy.adapters.json_adapter: Failed to use structured output format, falling back to JSON mode.\n",
      "Processing with DSPy:   3%|███▊                                                                                                                | 13/400 [00:06<02:16,  2.83it/s]2025/08/02 20:36:46 WARNING dspy.adapters.json_adapter: Failed to use structured output format, falling back to JSON mode.\n",
      "2025/08/02 20:36:46 WARNING dspy.adapters.json_adapter: Failed to use structured output format, falling back to JSON mode.\n",
      "Processing with DSPy:   4%|████                                                                                                                | 14/400 [00:07<02:03,  3.14it/s]2025/08/02 20:36:46 WARNING dspy.adapters.json_adapter: Failed to use structured output format, falling back to JSON mode.\n",
      "2025/08/02 20:36:46 WARNING dspy.adapters.json_adapter: Failed to use structured output format, falling back to JSON mode.\n",
      "2025/08/02 20:36:47 WARNING dspy.adapters.json_adapter: Failed to use structured output format, falling back to JSON mode.\n",
      "2025/08/02 20:36:47 WARNING dspy.adapters.json_adapter: Failed to use structured output format, falling back to JSON mode.\n",
      "Processing with DSPy:   4%|████▉                                                                                                               | 17/400 [00:07<01:59,  3.20it/s]2025/08/02 20:36:47 WARNING dspy.adapters.json_adapter: Failed to use structured output format, falling back to JSON mode.\n",
      "Processing with DSPy:   5%|█████▌                                                                                                              | 19/400 [00:08<01:43,  3.69it/s]2025/08/02 20:36:47 WARNING dspy.adapters.json_adapter: Failed to use structured output format, falling back to JSON mode.\n",
      "Processing with DSPy:   5%|██████                                                                                                              | 21/400 [00:08<01:41,  3.73it/s]2025/08/02 20:36:48 WARNING dspy.adapters.json_adapter: Failed to use structured output format, falling back to JSON mode.\n",
      "2025/08/02 20:36:48 WARNING dspy.adapters.json_adapter: Failed to use structured output format, falling back to JSON mode.\n",
      "Processing with DSPy:   6%|██████▍                                                                                                             | 22/400 [00:09<01:39,  3.78it/s]2025/08/02 20:36:48 WARNING dspy.adapters.json_adapter: Failed to use structured output format, falling back to JSON mode.\n",
      "Processing with DSPy:   6%|██████▉                                                                                                             | 24/400 [00:09<01:20,  4.67it/s]2025/08/02 20:36:48 WARNING dspy.adapters.json_adapter: Failed to use structured output format, falling back to JSON mode.\n",
      "Processing with DSPy:   6%|███████▎                                                                                                            | 25/400 [00:09<01:36,  3.88it/s]2025/08/02 20:36:49 WARNING dspy.adapters.json_adapter: Failed to use structured output format, falling back to JSON mode.\n",
      "Processing with DSPy:   6%|███████▌                                                                                                            | 26/400 [00:09<01:28,  4.22it/s]2025/08/02 20:36:49 WARNING dspy.adapters.json_adapter: Failed to use structured output format, falling back to JSON mode.\n",
      "Processing with DSPy:   7%|███████▊                                                                                                            | 27/400 [00:10<01:35,  3.91it/s]2025/08/02 20:36:49 WARNING dspy.adapters.json_adapter: Failed to use structured output format, falling back to JSON mode.\n",
      "2025/08/02 20:36:49 WARNING dspy.adapters.json_adapter: Failed to use structured output format, falling back to JSON mode.\n",
      "Processing with DSPy:   7%|████████▍                                                                                                           | 29/400 [00:10<01:23,  4.42it/s]2025/08/02 20:36:50 WARNING dspy.adapters.json_adapter: Failed to use structured output format, falling back to JSON mode.\n",
      "2025/08/02 20:36:50 WARNING dspy.adapters.json_adapter: Failed to use structured output format, falling back to JSON mode.\n",
      "2025/08/02 20:36:50 WARNING dspy.adapters.json_adapter: Failed to use structured output format, falling back to JSON mode.\n",
      "Processing with DSPy:   8%|████████▋                                                                                                           | 30/400 [00:11<02:01,  3.05it/s]2025/08/02 20:36:50 WARNING dspy.adapters.json_adapter: Failed to use structured output format, falling back to JSON mode.\n",
      "2025/08/02 20:36:51 WARNING dspy.adapters.json_adapter: Failed to use structured output format, falling back to JSON mode.\n",
      "2025/08/02 20:36:51 WARNING dspy.adapters.json_adapter: Failed to use structured output format, falling back to JSON mode.\n",
      "Processing with DSPy:   8%|█████████▌                                                                                                          | 33/400 [00:11<01:47,  3.42it/s]2025/08/02 20:36:51 WARNING dspy.adapters.json_adapter: Failed to use structured output format, falling back to JSON mode.\n",
      "2025/08/02 20:36:51 WARNING dspy.adapters.json_adapter: Failed to use structured output format, falling back to JSON mode.\n",
      "Processing with DSPy:   9%|██████████▍                                                                                                         | 36/400 [00:12<01:28,  4.12it/s]2025/08/02 20:36:52 WARNING dspy.adapters.json_adapter: Failed to use structured output format, falling back to JSON mode.\n",
      "2025/08/02 20:36:52 WARNING dspy.adapters.json_adapter: Failed to use structured output format, falling back to JSON mode.\n",
      "2025/08/02 20:36:52 WARNING dspy.adapters.json_adapter: Failed to use structured output format, falling back to JSON mode.\n",
      "Processing with DSPy:  10%|███████████                                                                                                         | 38/400 [00:12<01:11,  5.07it/s]2025/08/02 20:36:52 WARNING dspy.adapters.json_adapter: Failed to use structured output format, falling back to JSON mode.\n",
      "Processing with DSPy:  10%|███████████▉                                                                                                        | 41/400 [00:13<01:09,  5.19it/s]2025/08/02 20:36:52 WARNING dspy.adapters.json_adapter: Failed to use structured output format, falling back to JSON mode.\n",
      "Processing with DSPy:  10%|████████████▏                                                                                                       | 42/400 [00:13<01:14,  4.79it/s]2025/08/02 20:36:53 WARNING dspy.adapters.json_adapter: Failed to use structured output format, falling back to JSON mode.\n",
      "Processing with DSPy:  11%|████████████▍                                                                                                       | 43/400 [00:13<01:20,  4.45it/s]2025/08/02 20:36:53 WARNING dspy.adapters.json_adapter: Failed to use structured output format, falling back to JSON mode.\n",
      "Processing with DSPy:  11%|████████████▊                                                                                                       | 44/400 [00:13<01:11,  5.01it/s]2025/08/02 20:36:53 WARNING dspy.adapters.json_adapter: Failed to use structured output format, falling back to JSON mode.\n",
      "Processing with DSPy:  11%|█████████████                                                                                                       | 45/400 [00:14<01:35,  3.71it/s]2025/08/02 20:36:54 WARNING dspy.adapters.json_adapter: Failed to use structured output format, falling back to JSON mode.\n",
      "2025/08/02 20:36:54 WARNING dspy.adapters.json_adapter: Failed to use structured output format, falling back to JSON mode.\n",
      "Processing with DSPy:  12%|█████████████▎                                                                                                      | 46/400 [00:14<01:45,  3.35it/s]2025/08/02 20:36:54 WARNING dspy.adapters.json_adapter: Failed to use structured output format, falling back to JSON mode.\n",
      "Processing with DSPy:  12%|█████████████▉                                                                                                      | 48/400 [00:15<01:20,  4.39it/s]2025/08/02 20:36:54 WARNING dspy.adapters.json_adapter: Failed to use structured output format, falling back to JSON mode.\n",
      "Processing with DSPy:  12%|██████████████▏                                                                                                     | 49/400 [00:15<01:31,  3.82it/s]2025/08/02 20:36:55 WARNING dspy.adapters.json_adapter: Failed to use structured output format, falling back to JSON mode.\n",
      "2025/08/02 20:36:55 WARNING dspy.adapters.json_adapter: Failed to use structured output format, falling back to JSON mode.\n",
      "Processing with DSPy:  13%|██████████████▊                                                                                                     | 51/400 [00:15<01:07,  5.18it/s]2025/08/02 20:36:55 WARNING dspy.adapters.json_adapter: Failed to use structured output format, falling back to JSON mode.\n",
      "Processing with DSPy:  13%|███████████████                                                                                                     | 52/400 [00:15<01:19,  4.39it/s]2025/08/02 20:36:55 WARNING dspy.adapters.json_adapter: Failed to use structured output format, falling back to JSON mode.\n",
      "2025/08/02 20:36:56 WARNING dspy.adapters.json_adapter: Failed to use structured output format, falling back to JSON mode.\n",
      "Processing with DSPy:  13%|███████████████▎                                                                                                    | 53/400 [00:16<01:55,  3.00it/s]2025/08/02 20:36:56 WARNING dspy.adapters.json_adapter: Failed to use structured output format, falling back to JSON mode.\n",
      "Processing with DSPy:  14%|███████████████▉                                                                                                    | 55/400 [00:17<01:40,  3.44it/s]2025/08/02 20:36:56 WARNING dspy.adapters.json_adapter: Failed to use structured output format, falling back to JSON mode.\n",
      "Processing with DSPy:  14%|████████████████▏                                                                                                   | 56/400 [00:17<01:32,  3.72it/s]2025/08/02 20:36:56 WARNING dspy.adapters.json_adapter: Failed to use structured output format, falling back to JSON mode.\n",
      "2025/08/02 20:36:57 WARNING dspy.adapters.json_adapter: Failed to use structured output format, falling back to JSON mode.\n",
      "2025/08/02 20:36:57 WARNING dspy.adapters.json_adapter: Failed to use structured output format, falling back to JSON mode.\n",
      "2025/08/02 20:36:57 WARNING dspy.adapters.json_adapter: Failed to use structured output format, falling back to JSON mode.\n",
      "Processing with DSPy:  14%|████████████████▌                                                                                                   | 57/400 [00:18<02:33,  2.23it/s]2025/08/02 20:36:57 WARNING dspy.adapters.json_adapter: Failed to use structured output format, falling back to JSON mode.\n",
      "2025/08/02 20:36:58 WARNING dspy.adapters.json_adapter: Failed to use structured output format, falling back to JSON mode.\n",
      "Processing with DSPy:  16%|█████████████████▉                                                                                                  | 62/400 [00:19<01:31,  3.68it/s]2025/08/02 20:36:58 WARNING dspy.adapters.json_adapter: Failed to use structured output format, falling back to JSON mode.\n",
      "Processing with DSPy:  16%|██████████████████▎                                                                                                 | 63/400 [00:19<01:22,  4.07it/s]2025/08/02 20:36:58 WARNING dspy.adapters.json_adapter: Failed to use structured output format, falling back to JSON mode.\n",
      "2025/08/02 20:36:58 WARNING dspy.adapters.json_adapter: Failed to use structured output format, falling back to JSON mode.\n",
      "Processing with DSPy:  16%|██████████████████▊                                                                                                 | 65/400 [00:19<01:18,  4.25it/s]2025/08/02 20:36:59 WARNING dspy.adapters.json_adapter: Failed to use structured output format, falling back to JSON mode.\n",
      "Processing with DSPy:  16%|███████████████████▏                                                                                                | 66/400 [00:20<01:34,  3.54it/s]2025/08/02 20:36:59 WARNING dspy.adapters.json_adapter: Failed to use structured output format, falling back to JSON mode.\n",
      "2025/08/02 20:36:59 WARNING dspy.adapters.json_adapter: Failed to use structured output format, falling back to JSON mode.\n",
      "Processing with DSPy:  17%|███████████████████▍                                                                                                | 67/400 [00:20<01:25,  3.87it/s]2025/08/02 20:36:59 WARNING dspy.adapters.json_adapter: Failed to use structured output format, falling back to JSON mode.\n",
      "Processing with DSPy:  17%|████████████████████                                                                                                | 69/400 [00:20<01:18,  4.22it/s]2025/08/02 20:37:00 WARNING dspy.adapters.json_adapter: Failed to use structured output format, falling back to JSON mode.\n",
      "Processing with DSPy:  18%|████████████████████▎                                                                                               | 70/400 [00:20<01:09,  4.77it/s]2025/08/02 20:37:00 WARNING dspy.adapters.json_adapter: Failed to use structured output format, falling back to JSON mode.\n",
      "Processing with DSPy:  18%|████████████████████▌                                                                                               | 71/400 [00:21<01:09,  4.77it/s]2025/08/02 20:37:00 WARNING dspy.adapters.json_adapter: Failed to use structured output format, falling back to JSON mode.\n",
      "2025/08/02 20:37:01 WARNING dspy.adapters.json_adapter: Failed to use structured output format, falling back to JSON mode.\n",
      "Processing with DSPy:  18%|████████████████████▉                                                                                               | 72/400 [00:21<01:20,  4.09it/s]2025/08/02 20:37:01 WARNING dspy.adapters.json_adapter: Failed to use structured output format, falling back to JSON mode.\n",
      "2025/08/02 20:37:01 WARNING dspy.adapters.json_adapter: Failed to use structured output format, falling back to JSON mode.\n",
      "2025/08/02 20:37:01 WARNING dspy.adapters.json_adapter: Failed to use structured output format, falling back to JSON mode.\n",
      "2025/08/02 20:37:01 WARNING dspy.adapters.json_adapter: Failed to use structured output format, falling back to JSON mode.\n",
      "Processing with DSPy:  19%|██████████████████████                                                                                              | 76/400 [00:22<01:14,  4.38it/s]2025/08/02 20:37:02 WARNING dspy.adapters.json_adapter: Failed to use structured output format, falling back to JSON mode.\n",
      "2025/08/02 20:37:02 WARNING dspy.adapters.json_adapter: Failed to use structured output format, falling back to JSON mode.\n",
      "Processing with DSPy:  20%|██████████████████████▌                                                                                             | 78/400 [00:23<01:35,  3.36it/s]2025/08/02 20:37:02 WARNING dspy.adapters.json_adapter: Failed to use structured output format, falling back to JSON mode.\n",
      "2025/08/02 20:37:02 WARNING dspy.adapters.json_adapter: Failed to use structured output format, falling back to JSON mode.\n",
      "Processing with DSPy:  20%|███████████████████████▍                                                                                            | 81/400 [00:23<01:01,  5.18it/s]2025/08/02 20:37:03 WARNING dspy.adapters.json_adapter: Failed to use structured output format, falling back to JSON mode.\n",
      "2025/08/02 20:37:03 WARNING dspy.adapters.json_adapter: Failed to use structured output format, falling back to JSON mode.\n",
      "2025/08/02 20:37:03 WARNING dspy.adapters.json_adapter: Failed to use structured output format, falling back to JSON mode.\n",
      "2025/08/02 20:37:04 WARNING dspy.adapters.json_adapter: Failed to use structured output format, falling back to JSON mode.\n",
      "Processing with DSPy:  21%|████████████████████████                                                                                            | 83/400 [00:24<01:33,  3.38it/s]2025/08/02 20:37:04 WARNING dspy.adapters.json_adapter: Failed to use structured output format, falling back to JSON mode.\n",
      "2025/08/02 20:37:04 WARNING dspy.adapters.json_adapter: Failed to use structured output format, falling back to JSON mode.\n",
      "Processing with DSPy:  22%|████████████████████████▉                                                                                           | 86/400 [00:25<01:19,  3.95it/s]2025/08/02 20:37:04 WARNING dspy.adapters.json_adapter: Failed to use structured output format, falling back to JSON mode.\n",
      "2025/08/02 20:37:05 WARNING dspy.adapters.json_adapter: Failed to use structured output format, falling back to JSON mode.\n",
      "Processing with DSPy:  22%|█████████████████████████▏                                                                                          | 87/400 [00:25<01:49,  2.85it/s]2025/08/02 20:37:05 WARNING dspy.adapters.json_adapter: Failed to use structured output format, falling back to JSON mode.\n",
      "2025/08/02 20:37:05 WARNING dspy.adapters.json_adapter: Failed to use structured output format, falling back to JSON mode.\n",
      "Processing with DSPy:  22%|██████████████████████████                                                                                          | 90/400 [00:26<01:22,  3.75it/s]2025/08/02 20:37:06 WARNING dspy.adapters.json_adapter: Failed to use structured output format, falling back to JSON mode.\n",
      "Processing with DSPy:  23%|██████████████████████████▋                                                                                         | 92/400 [00:26<01:06,  4.64it/s]2025/08/02 20:37:06 WARNING dspy.adapters.json_adapter: Failed to use structured output format, falling back to JSON mode.\n",
      "2025/08/02 20:37:06 WARNING dspy.adapters.json_adapter: Failed to use structured output format, falling back to JSON mode.\n",
      "2025/08/02 20:37:06 WARNING dspy.adapters.json_adapter: Failed to use structured output format, falling back to JSON mode.\n",
      "Processing with DSPy:  23%|██████████████████████████▉                                                                                         | 93/400 [00:27<01:44,  2.93it/s]2025/08/02 20:37:07 WARNING dspy.adapters.json_adapter: Failed to use structured output format, falling back to JSON mode.\n",
      "2025/08/02 20:37:07 WARNING dspy.adapters.json_adapter: Failed to use structured output format, falling back to JSON mode.\n",
      "2025/08/02 20:37:07 WARNING dspy.adapters.json_adapter: Failed to use structured output format, falling back to JSON mode.\n",
      "2025/08/02 20:37:08 WARNING dspy.adapters.json_adapter: Failed to use structured output format, falling back to JSON mode.\n",
      "2025/08/02 20:37:08 WARNING dspy.adapters.json_adapter: Failed to use structured output format, falling back to JSON mode.\n",
      "2025/08/02 20:37:09 WARNING dspy.adapters.json_adapter: Failed to use structured output format, falling back to JSON mode.\n",
      "Processing with DSPy:  24%|███████████████████████████▊                                                                                        | 96/400 [00:29<02:25,  2.09it/s]2025/08/02 20:37:09 WARNING dspy.adapters.json_adapter: Failed to use structured output format, falling back to JSON mode.\n",
      "Processing with DSPy:  26%|█████████████████████████████▎                                                                                     | 102/400 [00:29<01:17,  3.85it/s]2025/08/02 20:37:09 WARNING dspy.adapters.json_adapter: Failed to use structured output format, falling back to JSON mode.\n",
      "2025/08/02 20:37:09 WARNING dspy.adapters.json_adapter: Failed to use structured output format, falling back to JSON mode.\n",
      "2025/08/02 20:37:10 WARNING dspy.adapters.json_adapter: Failed to use structured output format, falling back to JSON mode.\n",
      "Processing with DSPy:  26%|█████████████████████████████▌                                                                                     | 103/400 [00:30<01:35,  3.11it/s]2025/08/02 20:37:10 WARNING dspy.adapters.json_adapter: Failed to use structured output format, falling back to JSON mode.\n",
      "Processing with DSPy:  26%|██████████████████████████████▍                                                                                    | 106/400 [00:30<01:07,  4.35it/s]2025/08/02 20:37:10 WARNING dspy.adapters.json_adapter: Failed to use structured output format, falling back to JSON mode.\n",
      "2025/08/02 20:37:10 WARNING dspy.adapters.json_adapter: Failed to use structured output format, falling back to JSON mode.\n",
      "Processing with DSPy:  27%|███████████████████████████████                                                                                    | 108/400 [00:31<01:07,  4.29it/s]2025/08/02 20:37:11 WARNING dspy.adapters.json_adapter: Failed to use structured output format, falling back to JSON mode.\n",
      "Processing with DSPy:  27%|███████████████████████████████▎                                                                                   | 109/400 [00:31<01:16,  3.83it/s]2025/08/02 20:37:11 WARNING dspy.adapters.json_adapter: Failed to use structured output format, falling back to JSON mode.\n",
      "2025/08/02 20:37:11 WARNING dspy.adapters.json_adapter: Failed to use structured output format, falling back to JSON mode.\n",
      "Processing with DSPy:  28%|███████████████████████████████▉                                                                                   | 111/400 [00:32<01:17,  3.73it/s]2025/08/02 20:37:12 WARNING dspy.adapters.json_adapter: Failed to use structured output format, falling back to JSON mode.\n",
      "Processing with DSPy:  28%|████████████████████████████████▏                                                                                  | 112/400 [00:32<01:09,  4.15it/s]2025/08/02 20:37:12 WARNING dspy.adapters.json_adapter: Failed to use structured output format, falling back to JSON mode.\n",
      "2025/08/02 20:37:12 WARNING dspy.adapters.json_adapter: Failed to use structured output format, falling back to JSON mode.\n",
      "Processing with DSPy:  28%|████████████████████████████████▍                                                                                  | 113/400 [00:32<01:22,  3.46it/s]2025/08/02 20:37:12 WARNING dspy.adapters.json_adapter: Failed to use structured output format, falling back to JSON mode.\n",
      "2025/08/02 20:37:13 WARNING dspy.adapters.json_adapter: Failed to use structured output format, falling back to JSON mode.\n",
      "Processing with DSPy:  29%|█████████████████████████████████                                                                                  | 115/400 [00:33<01:28,  3.24it/s]2025/08/02 20:37:13 WARNING dspy.adapters.json_adapter: Failed to use structured output format, falling back to JSON mode.\n",
      "2025/08/02 20:37:13 WARNING dspy.adapters.json_adapter: Failed to use structured output format, falling back to JSON mode.\n",
      "Processing with DSPy:  30%|█████████████████████████████████▉                                                                                 | 118/400 [00:33<00:59,  4.73it/s]2025/08/02 20:37:13 WARNING dspy.adapters.json_adapter: Failed to use structured output format, falling back to JSON mode.\n",
      "Processing with DSPy:  30%|██████████████████████████████████▏                                                                                | 119/400 [00:34<01:12,  3.85it/s]2025/08/02 20:37:14 WARNING dspy.adapters.json_adapter: Failed to use structured output format, falling back to JSON mode.\n",
      "Processing with DSPy:  30%|██████████████████████████████████▌                                                                                | 120/400 [00:34<01:13,  3.81it/s]2025/08/02 20:37:14 WARNING dspy.adapters.json_adapter: Failed to use structured output format, falling back to JSON mode.\n",
      "Processing with DSPy:  30%|██████████████████████████████████▊                                                                                | 121/400 [00:34<01:06,  4.18it/s]2025/08/02 20:37:14 WARNING dspy.adapters.json_adapter: Failed to use structured output format, falling back to JSON mode.\n",
      "Processing with DSPy:  30%|███████████████████████████████████                                                                                | 122/400 [00:35<01:22,  3.37it/s]2025/08/02 20:37:15 WARNING dspy.adapters.json_adapter: Failed to use structured output format, falling back to JSON mode.\n",
      "2025/08/02 20:37:15 WARNING dspy.adapters.json_adapter: Failed to use structured output format, falling back to JSON mode.\n",
      "Processing with DSPy:  31%|███████████████████████████████████▋                                                                               | 124/400 [00:36<01:34,  2.91it/s]2025/08/02 20:37:15 WARNING dspy.adapters.json_adapter: Failed to use structured output format, falling back to JSON mode.\n",
      "2025/08/02 20:37:15 WARNING dspy.adapters.json_adapter: Failed to use structured output format, falling back to JSON mode.\n",
      "2025/08/02 20:37:16 WARNING dspy.adapters.json_adapter: Failed to use structured output format, falling back to JSON mode.\n",
      "Processing with DSPy:  32%|████████████████████████████████████▏                                                                              | 126/400 [00:36<01:37,  2.80it/s]2025/08/02 20:37:16 WARNING dspy.adapters.json_adapter: Failed to use structured output format, falling back to JSON mode.\n",
      "2025/08/02 20:37:16 WARNING dspy.adapters.json_adapter: Failed to use structured output format, falling back to JSON mode.\n",
      "Processing with DSPy:  32%|████████████████████████████████████▊                                                                              | 128/400 [00:37<01:16,  3.57it/s]2025/08/02 20:37:16 WARNING dspy.adapters.json_adapter: Failed to use structured output format, falling back to JSON mode.\n",
      "Processing with DSPy:  32%|█████████████████████████████████████▍                                                                             | 130/400 [00:37<01:06,  4.08it/s]2025/08/02 20:37:17 WARNING dspy.adapters.json_adapter: Failed to use structured output format, falling back to JSON mode.\n",
      "2025/08/02 20:37:17 WARNING dspy.adapters.json_adapter: Failed to use structured output format, falling back to JSON mode.\n",
      "Processing with DSPy:  33%|█████████████████████████████████████▋                                                                             | 131/400 [00:38<01:25,  3.13it/s]2025/08/02 20:37:17 WARNING dspy.adapters.json_adapter: Failed to use structured output format, falling back to JSON mode.\n",
      "2025/08/02 20:37:18 WARNING dspy.adapters.json_adapter: Failed to use structured output format, falling back to JSON mode.\n",
      "2025/08/02 20:37:18 WARNING dspy.adapters.json_adapter: Failed to use structured output format, falling back to JSON mode.\n",
      "Processing with DSPy:  33%|██████████████████████████████████████▏                                                                            | 133/400 [00:38<01:34,  2.82it/s]2025/08/02 20:37:18 WARNING dspy.adapters.json_adapter: Failed to use structured output format, falling back to JSON mode.\n",
      "2025/08/02 20:37:18 WARNING dspy.adapters.json_adapter: Failed to use structured output format, falling back to JSON mode.\n",
      "Processing with DSPy:  34%|██████████████████████████████████████▊                                                                            | 135/400 [00:39<01:34,  2.81it/s]2025/08/02 20:37:19 WARNING dspy.adapters.json_adapter: Failed to use structured output format, falling back to JSON mode.\n",
      "2025/08/02 20:37:19 WARNING dspy.adapters.json_adapter: Failed to use structured output format, falling back to JSON mode.\n",
      "Processing with DSPy:  35%|███████████████████████████████████████▉                                                                           | 139/400 [00:40<01:03,  4.12it/s]2025/08/02 20:37:19 WARNING dspy.adapters.json_adapter: Failed to use structured output format, falling back to JSON mode.\n",
      "Processing with DSPy:  35%|████████████████████████████████████████▎                                                                          | 140/400 [00:40<01:05,  3.96it/s]2025/08/02 20:37:20 WARNING dspy.adapters.json_adapter: Failed to use structured output format, falling back to JSON mode.\n",
      "2025/08/02 20:37:20 WARNING dspy.adapters.json_adapter: Failed to use structured output format, falling back to JSON mode.\n",
      "Processing with DSPy:  35%|████████████████████████████████████████▌                                                                          | 141/400 [00:41<01:25,  3.02it/s]2025/08/02 20:37:20 WARNING dspy.adapters.json_adapter: Failed to use structured output format, falling back to JSON mode.\n",
      "2025/08/02 20:37:20 WARNING dspy.adapters.json_adapter: Failed to use structured output format, falling back to JSON mode.\n",
      "Processing with DSPy:  36%|█████████████████████████████████████████▍                                                                         | 144/400 [00:41<01:07,  3.78it/s]2025/08/02 20:37:21 WARNING dspy.adapters.json_adapter: Failed to use structured output format, falling back to JSON mode.\n",
      "2025/08/02 20:37:21 WARNING dspy.adapters.json_adapter: Failed to use structured output format, falling back to JSON mode.\n",
      "Processing with DSPy:  36%|█████████████████████████████████████████▋                                                                         | 145/400 [00:42<01:12,  3.49it/s]2025/08/02 20:37:21 WARNING dspy.adapters.json_adapter: Failed to use structured output format, falling back to JSON mode.\n",
      "Processing with DSPy:  37%|██████████████████████████████████████████▎                                                                        | 147/400 [00:42<00:53,  4.74it/s]2025/08/02 20:37:21 WARNING dspy.adapters.json_adapter: Failed to use structured output format, falling back to JSON mode.\n",
      "Processing with DSPy:  37%|██████████████████████████████████████████▌                                                                        | 148/400 [00:42<01:06,  3.77it/s]2025/08/02 20:37:22 WARNING dspy.adapters.json_adapter: Failed to use structured output format, falling back to JSON mode.\n",
      "Processing with DSPy:  37%|██████████████████████████████████████████▊                                                                        | 149/400 [00:42<01:01,  4.07it/s]2025/08/02 20:37:22 WARNING dspy.adapters.json_adapter: Failed to use structured output format, falling back to JSON mode.\n",
      "2025/08/02 20:37:22 WARNING dspy.adapters.json_adapter: Failed to use structured output format, falling back to JSON mode.\n",
      "2025/08/02 20:37:22 WARNING dspy.adapters.json_adapter: Failed to use structured output format, falling back to JSON mode.\n",
      "Processing with DSPy:  38%|███████████████████████████████████████████▋                                                                       | 152/400 [00:43<01:02,  3.94it/s]2025/08/02 20:37:23 WARNING dspy.adapters.json_adapter: Failed to use structured output format, falling back to JSON mode.\n",
      "2025/08/02 20:37:23 WARNING dspy.adapters.json_adapter: Failed to use structured output format, falling back to JSON mode.\n",
      "2025/08/02 20:37:23 WARNING dspy.adapters.json_adapter: Failed to use structured output format, falling back to JSON mode.\n",
      "Processing with DSPy:  38%|███████████████████████████████████████████▉                                                                       | 153/400 [00:44<01:16,  3.21it/s]2025/08/02 20:37:23 WARNING dspy.adapters.json_adapter: Failed to use structured output format, falling back to JSON mode.\n",
      "2025/08/02 20:37:24 WARNING dspy.adapters.json_adapter: Failed to use structured output format, falling back to JSON mode.\n",
      "Processing with DSPy:  39%|████████████████████████████████████████████▊                                                                      | 156/400 [00:44<01:00,  4.01it/s]2025/08/02 20:37:24 WARNING dspy.adapters.json_adapter: Failed to use structured output format, falling back to JSON mode.\n",
      "Processing with DSPy:  40%|█████████████████████████████████████████████▍                                                                     | 158/400 [00:44<00:48,  4.96it/s]2025/08/02 20:37:24 WARNING dspy.adapters.json_adapter: Failed to use structured output format, falling back to JSON mode.\n",
      "2025/08/02 20:37:25 WARNING dspy.adapters.json_adapter: Failed to use structured output format, falling back to JSON mode.\n",
      "Processing with DSPy:  40%|█████████████████████████████████████████████▋                                                                     | 159/400 [00:45<01:09,  3.46it/s]2025/08/02 20:37:25 WARNING dspy.adapters.json_adapter: Failed to use structured output format, falling back to JSON mode.\n",
      "2025/08/02 20:37:25 WARNING dspy.adapters.json_adapter: Failed to use structured output format, falling back to JSON mode.\n",
      "2025/08/02 20:37:26 WARNING dspy.adapters.json_adapter: Failed to use structured output format, falling back to JSON mode.\n",
      "2025/08/02 20:37:26 WARNING dspy.adapters.json_adapter: Failed to use structured output format, falling back to JSON mode.\n",
      "Processing with DSPy:  40%|██████████████████████████████████████████████▎                                                                    | 161/400 [00:46<01:24,  2.83it/s]2025/08/02 20:37:26 WARNING dspy.adapters.json_adapter: Failed to use structured output format, falling back to JSON mode.\n",
      "2025/08/02 20:37:27 WARNING dspy.adapters.json_adapter: Failed to use structured output format, falling back to JSON mode.\n",
      "2025/08/02 20:37:27 WARNING dspy.adapters.json_adapter: Failed to use structured output format, falling back to JSON mode.\n",
      "2025/08/02 20:37:27 WARNING dspy.adapters.json_adapter: Failed to use structured output format, falling back to JSON mode.\n",
      "2025/08/02 20:37:28 WARNING dspy.adapters.json_adapter: Failed to use structured output format, falling back to JSON mode.\n",
      "2025/08/02 20:37:28 WARNING dspy.adapters.json_adapter: Failed to use structured output format, falling back to JSON mode.\n",
      "2025/08/02 20:37:29 WARNING dspy.adapters.json_adapter: Failed to use structured output format, falling back to JSON mode.\n",
      "2025/08/02 20:37:29 WARNING dspy.adapters.json_adapter: Failed to use structured output format, falling back to JSON mode.\n",
      "2025/08/02 20:37:29 WARNING dspy.adapters.json_adapter: Failed to use structured output format, falling back to JSON mode.\n",
      "Processing with DSPy:  41%|██████████████████████████████████████████████▊                                                                    | 163/400 [00:49<03:05,  1.28it/s]2025/08/02 20:37:29 WARNING dspy.adapters.json_adapter: Failed to use structured output format, falling back to JSON mode.\n",
      "Processing with DSPy:  44%|██████████████████████████████████████████████████                                                                 | 174/400 [00:50<00:54,  4.13it/s]2025/08/02 20:37:30 WARNING dspy.adapters.json_adapter: Failed to use structured output format, falling back to JSON mode.\n",
      "2025/08/02 20:37:30 WARNING dspy.adapters.json_adapter: Failed to use structured output format, falling back to JSON mode.\n",
      "Processing with DSPy:  44%|██████████████████████████████████████████████████▌                                                                | 176/400 [00:50<00:54,  4.12it/s]2025/08/02 20:37:30 WARNING dspy.adapters.json_adapter: Failed to use structured output format, falling back to JSON mode.\n",
      "Processing with DSPy:  44%|██████████████████████████████████████████████████▉                                                                | 177/400 [00:50<00:52,  4.22it/s]2025/08/02 20:37:30 WARNING dspy.adapters.json_adapter: Failed to use structured output format, falling back to JSON mode.\n",
      "Processing with DSPy:  44%|███████████████████████████████████████████████████▏                                                               | 178/400 [00:51<01:00,  3.68it/s]2025/08/02 20:37:31 WARNING dspy.adapters.json_adapter: Failed to use structured output format, falling back to JSON mode.\n",
      "Processing with DSPy:  45%|███████████████████████████████████████████████████▍                                                               | 179/400 [00:51<01:07,  3.29it/s]2025/08/02 20:37:31 WARNING dspy.adapters.json_adapter: Failed to use structured output format, falling back to JSON mode.\n",
      "2025/08/02 20:37:31 WARNING dspy.adapters.json_adapter: Failed to use structured output format, falling back to JSON mode.\n",
      "2025/08/02 20:37:31 WARNING dspy.adapters.json_adapter: Failed to use structured output format, falling back to JSON mode.\n",
      "Processing with DSPy:  46%|████████████████████████████████████████████████████▎                                                              | 182/400 [00:52<00:46,  4.70it/s]2025/08/02 20:37:31 WARNING dspy.adapters.json_adapter: Failed to use structured output format, falling back to JSON mode.\n",
      "2025/08/02 20:37:32 WARNING dspy.adapters.json_adapter: Failed to use structured output format, falling back to JSON mode.\n",
      "2025/08/02 20:37:32 WARNING dspy.adapters.json_adapter: Failed to use structured output format, falling back to JSON mode.\n",
      "Processing with DSPy:  46%|████████████████████████████████████████████████████▌                                                              | 183/400 [00:53<01:13,  2.96it/s]2025/08/02 20:37:32 WARNING dspy.adapters.json_adapter: Failed to use structured output format, falling back to JSON mode.\n",
      "Processing with DSPy:  46%|█████████████████████████████████████████████████████▍                                                             | 186/400 [00:53<00:58,  3.67it/s]2025/08/02 20:37:33 WARNING dspy.adapters.json_adapter: Failed to use structured output format, falling back to JSON mode.\n",
      "2025/08/02 20:37:33 WARNING dspy.adapters.json_adapter: Failed to use structured output format, falling back to JSON mode.\n",
      "Processing with DSPy:  47%|█████████████████████████████████████████████████████▊                                                             | 187/400 [00:53<00:56,  3.80it/s]2025/08/02 20:37:33 WARNING dspy.adapters.json_adapter: Failed to use structured output format, falling back to JSON mode.\n",
      "Processing with DSPy:  47%|██████████████████████████████████████████████████████▎                                                            | 189/400 [00:54<01:04,  3.27it/s]2025/08/02 20:37:34 WARNING dspy.adapters.json_adapter: Failed to use structured output format, falling back to JSON mode.\n",
      "2025/08/02 20:37:34 WARNING dspy.adapters.json_adapter: Failed to use structured output format, falling back to JSON mode.\n",
      "Processing with DSPy:  48%|██████████████████████████████████████████████████████▋                                                            | 190/400 [00:55<01:05,  3.21it/s]2025/08/02 20:37:34 WARNING dspy.adapters.json_adapter: Failed to use structured output format, falling back to JSON mode.\n",
      "Processing with DSPy:  48%|███████████████████████████████████████████████████████▏                                                           | 192/400 [00:55<00:57,  3.62it/s]2025/08/02 20:37:35 WARNING dspy.adapters.json_adapter: Failed to use structured output format, falling back to JSON mode.\n",
      "2025/08/02 20:37:35 WARNING dspy.adapters.json_adapter: Failed to use structured output format, falling back to JSON mode.\n",
      "Processing with DSPy:  48%|███████████████████████████████████████████████████████▍                                                           | 193/400 [00:56<01:13,  2.81it/s]2025/08/02 20:37:35 WARNING dspy.adapters.json_adapter: Failed to use structured output format, falling back to JSON mode.\n",
      "2025/08/02 20:37:36 WARNING dspy.adapters.json_adapter: Failed to use structured output format, falling back to JSON mode.\n",
      "Processing with DSPy:  49%|████████████████████████████████████████████████████████                                                           | 195/400 [00:56<01:06,  3.06it/s]2025/08/02 20:37:36 WARNING dspy.adapters.json_adapter: Failed to use structured output format, falling back to JSON mode.\n",
      "2025/08/02 20:37:36 WARNING dspy.adapters.json_adapter: Failed to use structured output format, falling back to JSON mode.\n",
      "Processing with DSPy:  50%|████████████████████████████████████████████████████████▉                                                          | 198/400 [00:57<00:56,  3.57it/s]2025/08/02 20:37:37 WARNING dspy.adapters.json_adapter: Failed to use structured output format, falling back to JSON mode.\n",
      "2025/08/02 20:37:37 WARNING dspy.adapters.json_adapter: Failed to use structured output format, falling back to JSON mode.\n",
      "2025/08/02 20:37:37 WARNING dspy.adapters.json_adapter: Failed to use structured output format, falling back to JSON mode.\n",
      "Processing with DSPy:  50%|█████████████████████████████████████████████████████████▏                                                         | 199/400 [00:57<01:04,  3.11it/s]2025/08/02 20:37:37 WARNING dspy.adapters.json_adapter: Failed to use structured output format, falling back to JSON mode.\n",
      "Processing with DSPy:  50%|██████████████████████████████████████████████████████████                                                         | 202/400 [00:58<00:51,  3.87it/s]2025/08/02 20:37:38 WARNING dspy.adapters.json_adapter: Failed to use structured output format, falling back to JSON mode.\n",
      "Processing with DSPy:  51%|██████████████████████████████████████████████████████████▎                                                        | 203/400 [00:58<00:57,  3.43it/s]2025/08/02 20:37:38 WARNING dspy.adapters.json_adapter: Failed to use structured output format, falling back to JSON mode.\n",
      "2025/08/02 20:37:38 WARNING dspy.adapters.json_adapter: Failed to use structured output format, falling back to JSON mode.\n",
      "Processing with DSPy:  51%|██████████████████████████████████████████████████████████▉                                                        | 205/400 [00:59<00:49,  3.90it/s]2025/08/02 20:37:38 WARNING dspy.adapters.json_adapter: Failed to use structured output format, falling back to JSON mode.\n",
      "Processing with DSPy:  52%|███████████████████████████████████████████████████████████▏                                                       | 206/400 [00:59<00:55,  3.50it/s]2025/08/02 20:37:39 WARNING dspy.adapters.json_adapter: Failed to use structured output format, falling back to JSON mode.\n",
      "2025/08/02 20:37:39 WARNING dspy.adapters.json_adapter: Failed to use structured output format, falling back to JSON mode.\n",
      "Processing with DSPy:  52%|███████████████████████████████████████████████████████████▌                                                       | 207/400 [01:00<01:12,  2.68it/s]2025/08/02 20:37:40 WARNING dspy.adapters.json_adapter: Failed to use structured output format, falling back to JSON mode.\n",
      "2025/08/02 20:37:40 WARNING dspy.adapters.json_adapter: Failed to use structured output format, falling back to JSON mode.\n",
      "2025/08/02 20:37:40 WARNING dspy.adapters.json_adapter: Failed to use structured output format, falling back to JSON mode.\n",
      "2025/08/02 20:37:41 WARNING dspy.adapters.json_adapter: Failed to use structured output format, falling back to JSON mode.\n",
      "2025/08/02 20:37:41 WARNING dspy.adapters.json_adapter: Failed to use structured output format, falling back to JSON mode.\n",
      "2025/08/02 20:37:41 WARNING dspy.adapters.json_adapter: Failed to use structured output format, falling back to JSON mode.\n",
      "2025/08/02 20:37:42 WARNING dspy.adapters.json_adapter: Failed to use structured output format, falling back to JSON mode.\n",
      "2025/08/02 20:37:42 WARNING dspy.adapters.json_adapter: Failed to use structured output format, falling back to JSON mode.\n",
      "2025/08/02 20:37:42 WARNING dspy.adapters.json_adapter: Failed to use structured output format, falling back to JSON mode.\n",
      "2025/08/02 20:37:43 WARNING dspy.adapters.json_adapter: Failed to use structured output format, falling back to JSON mode.\n",
      "2025/08/02 20:37:43 WARNING dspy.adapters.json_adapter: Failed to use structured output format, falling back to JSON mode.\n",
      "2025/08/02 20:37:43 WARNING dspy.adapters.json_adapter: Failed to use structured output format, falling back to JSON mode.\n",
      "2025/08/02 20:37:44 WARNING dspy.adapters.json_adapter: Failed to use structured output format, falling back to JSON mode.\n",
      "2025/08/02 20:37:44 WARNING dspy.adapters.json_adapter: Failed to use structured output format, falling back to JSON mode.\n",
      "2025/08/02 20:37:44 WARNING dspy.adapters.json_adapter: Failed to use structured output format, falling back to JSON mode.\n",
      "Processing with DSPy:  52%|███████████████████████████████████████████████████████████▊                                                       | 208/400 [01:05<04:36,  1.44s/it]2025/08/02 20:37:45 WARNING dspy.adapters.json_adapter: Failed to use structured output format, falling back to JSON mode.\n",
      "2025/08/02 20:37:45 WARNING dspy.adapters.json_adapter: Failed to use structured output format, falling back to JSON mode.\n",
      "2025/08/02 20:37:45 WARNING dspy.adapters.json_adapter: Failed to use structured output format, falling back to JSON mode.\n",
      "Processing with DSPy:  56%|████████████████████████████████████████████████████████████████                                                   | 223/400 [01:06<00:49,  3.58it/s]2025/08/02 20:37:45 WARNING dspy.adapters.json_adapter: Failed to use structured output format, falling back to JSON mode.\n",
      "2025/08/02 20:37:45 WARNING dspy.adapters.json_adapter: Failed to use structured output format, falling back to JSON mode.\n",
      "2025/08/02 20:37:46 WARNING dspy.adapters.json_adapter: Failed to use structured output format, falling back to JSON mode.\n",
      "Processing with DSPy:  57%|█████████████████████████████████████████████████████████████████▌                                                 | 228/400 [01:06<00:42,  4.03it/s]2025/08/02 20:37:46 WARNING dspy.adapters.json_adapter: Failed to use structured output format, falling back to JSON mode.\n",
      "2025/08/02 20:37:46 WARNING dspy.adapters.json_adapter: Failed to use structured output format, falling back to JSON mode.\n",
      "Processing with DSPy:  57%|██████████████████████████████████████████████████████████████████▏                                                | 230/400 [01:07<00:39,  4.30it/s]2025/08/02 20:37:46 WARNING dspy.adapters.json_adapter: Failed to use structured output format, falling back to JSON mode.\n",
      "2025/08/02 20:37:47 WARNING dspy.adapters.json_adapter: Failed to use structured output format, falling back to JSON mode.\n",
      "Processing with DSPy:  58%|██████████████████████████████████████████████████████████████████▋                                                | 232/400 [01:07<00:42,  3.97it/s]2025/08/02 20:37:47 WARNING dspy.adapters.json_adapter: Failed to use structured output format, falling back to JSON mode.\n",
      "Processing with DSPy:  58%|██████████████████████████████████████████████████████████████████▉                                                | 233/400 [01:08<00:42,  3.95it/s]2025/08/02 20:37:47 WARNING dspy.adapters.json_adapter: Failed to use structured output format, falling back to JSON mode.\n",
      "2025/08/02 20:37:47 WARNING dspy.adapters.json_adapter: Failed to use structured output format, falling back to JSON mode.\n",
      "Processing with DSPy:  59%|███████████████████████████████████████████████████████████████████▊                                               | 236/400 [01:08<00:36,  4.46it/s]2025/08/02 20:37:48 WARNING dspy.adapters.json_adapter: Failed to use structured output format, falling back to JSON mode.\n",
      "2025/08/02 20:37:48 WARNING dspy.adapters.json_adapter: Failed to use structured output format, falling back to JSON mode.\n",
      "2025/08/02 20:37:48 WARNING dspy.adapters.json_adapter: Failed to use structured output format, falling back to JSON mode.\n",
      "2025/08/02 20:37:48 WARNING dspy.adapters.json_adapter: Failed to use structured output format, falling back to JSON mode.\n",
      "Processing with DSPy:  60%|████████████████████████████████████████████████████████████████████▍                                              | 238/400 [01:09<00:36,  4.40it/s]2025/08/02 20:37:48 WARNING dspy.adapters.json_adapter: Failed to use structured output format, falling back to JSON mode.\n",
      "Processing with DSPy:  60%|█████████████████████████████████████████████████████████████████████▎                                             | 241/400 [01:09<00:30,  5.13it/s]2025/08/02 20:37:49 WARNING dspy.adapters.json_adapter: Failed to use structured output format, falling back to JSON mode.\n",
      "2025/08/02 20:37:49 WARNING dspy.adapters.json_adapter: Failed to use structured output format, falling back to JSON mode.\n",
      "2025/08/02 20:37:49 WARNING dspy.adapters.json_adapter: Failed to use structured output format, falling back to JSON mode.\n",
      "Processing with DSPy:  60%|█████████████████████████████████████████████████████████████████████▌                                             | 242/400 [01:10<00:45,  3.51it/s]2025/08/02 20:37:50 WARNING dspy.adapters.json_adapter: Failed to use structured output format, falling back to JSON mode.\n",
      "2025/08/02 20:37:50 WARNING dspy.adapters.json_adapter: Failed to use structured output format, falling back to JSON mode.\n",
      "2025/08/02 20:37:50 WARNING dspy.adapters.json_adapter: Failed to use structured output format, falling back to JSON mode.\n",
      "Processing with DSPy:  62%|██████████████████████████████████████████████████████████████████████▋                                            | 246/400 [01:10<00:30,  5.12it/s]2025/08/02 20:37:50 WARNING dspy.adapters.json_adapter: Failed to use structured output format, falling back to JSON mode.\n",
      "2025/08/02 20:37:51 WARNING dspy.adapters.json_adapter: Failed to use structured output format, falling back to JSON mode.\n",
      "Processing with DSPy:  62%|███████████████████████████████████████████████████████████████████████▎                                           | 248/400 [01:11<00:38,  3.94it/s]2025/08/02 20:37:51 WARNING dspy.adapters.json_adapter: Failed to use structured output format, falling back to JSON mode.\n",
      "Processing with DSPy:  62%|███████████████████████████████████████████████████████████████████████▉                                           | 250/400 [01:11<00:31,  4.76it/s]2025/08/02 20:37:51 WARNING dspy.adapters.json_adapter: Failed to use structured output format, falling back to JSON mode.\n",
      "Processing with DSPy:  63%|████████████████████████████████████████████████████████████████████████▏                                          | 251/400 [01:11<00:32,  4.52it/s]2025/08/02 20:37:51 WARNING dspy.adapters.json_adapter: Failed to use structured output format, falling back to JSON mode.\n",
      "2025/08/02 20:37:52 WARNING dspy.adapters.json_adapter: Failed to use structured output format, falling back to JSON mode.\n",
      "Processing with DSPy:  63%|████████████████████████████████████████████████████████████████████████▍                                          | 252/400 [01:12<00:45,  3.22it/s]2025/08/02 20:37:52 WARNING dspy.adapters.json_adapter: Failed to use structured output format, falling back to JSON mode.\n",
      "2025/08/02 20:37:52 WARNING dspy.adapters.json_adapter: Failed to use structured output format, falling back to JSON mode.\n",
      "Processing with DSPy:  64%|█████████████████████████████████████████████████████████████████████████▎                                         | 255/400 [01:12<00:31,  4.54it/s]2025/08/02 20:37:52 WARNING dspy.adapters.json_adapter: Failed to use structured output format, falling back to JSON mode.\n",
      "2025/08/02 20:37:53 WARNING dspy.adapters.json_adapter: Failed to use structured output format, falling back to JSON mode.\n",
      "2025/08/02 20:37:53 WARNING dspy.adapters.json_adapter: Failed to use structured output format, falling back to JSON mode.\n",
      "2025/08/02 20:37:53 WARNING dspy.adapters.json_adapter: Failed to use structured output format, falling back to JSON mode.\n",
      "Processing with DSPy:  64%|█████████████████████████████████████████████████████████████████████████▌                                         | 256/400 [01:14<00:51,  2.78it/s]2025/08/02 20:37:53 WARNING dspy.adapters.json_adapter: Failed to use structured output format, falling back to JSON mode.\n",
      "Processing with DSPy:  65%|██████████████████████████████████████████████████████████████████████████▊                                        | 260/400 [01:14<00:28,  4.93it/s]2025/08/02 20:37:53 WARNING dspy.adapters.json_adapter: Failed to use structured output format, falling back to JSON mode.\n",
      "2025/08/02 20:37:54 WARNING dspy.adapters.json_adapter: Failed to use structured output format, falling back to JSON mode.\n",
      "Processing with DSPy:  66%|███████████████████████████████████████████████████████████████████████████▎                                       | 262/400 [01:14<00:34,  3.96it/s]2025/08/02 20:37:54 WARNING dspy.adapters.json_adapter: Failed to use structured output format, falling back to JSON mode.\n",
      "Processing with DSPy:  66%|███████████████████████████████████████████████████████████████████████████▌                                       | 263/400 [01:15<00:31,  4.31it/s]2025/08/02 20:37:54 WARNING dspy.adapters.json_adapter: Failed to use structured output format, falling back to JSON mode.\n",
      "2025/08/02 20:37:54 WARNING dspy.adapters.json_adapter: Failed to use structured output format, falling back to JSON mode.\n",
      "Processing with DSPy:  66%|████████████████████████████████████████████████████████████████████████████▏                                      | 265/400 [01:15<00:26,  5.11it/s]2025/08/02 20:37:55 WARNING dspy.adapters.json_adapter: Failed to use structured output format, falling back to JSON mode.\n",
      "Processing with DSPy:  66%|████████████████████████████████████████████████████████████████████████████▍                                      | 266/400 [01:15<00:37,  3.60it/s]2025/08/02 20:37:55 WARNING dspy.adapters.json_adapter: Failed to use structured output format, falling back to JSON mode.\n",
      "2025/08/02 20:37:55 WARNING dspy.adapters.json_adapter: Failed to use structured output format, falling back to JSON mode.\n",
      "Processing with DSPy:  67%|████████████████████████████████████████████████████████████████████████████▊                                      | 267/400 [01:16<00:33,  3.91it/s]2025/08/02 20:37:55 WARNING dspy.adapters.json_adapter: Failed to use structured output format, falling back to JSON mode.\n",
      "2025/08/02 20:37:56 WARNING dspy.adapters.json_adapter: Failed to use structured output format, falling back to JSON mode.\n",
      "2025/08/02 20:37:56 WARNING dspy.adapters.json_adapter: Failed to use structured output format, falling back to JSON mode.\n",
      "2025/08/02 20:37:56 WARNING dspy.adapters.json_adapter: Failed to use structured output format, falling back to JSON mode.\n",
      "2025/08/02 20:37:57 WARNING dspy.adapters.json_adapter: Failed to use structured output format, falling back to JSON mode.\n",
      "2025/08/02 20:37:57 WARNING dspy.adapters.json_adapter: Failed to use structured output format, falling back to JSON mode.\n",
      "2025/08/02 20:37:57 WARNING dspy.adapters.json_adapter: Failed to use structured output format, falling back to JSON mode.\n",
      "2025/08/02 20:37:57 WARNING dspy.adapters.json_adapter: Failed to use structured output format, falling back to JSON mode.\n",
      "2025/08/02 20:37:58 WARNING dspy.adapters.json_adapter: Failed to use structured output format, falling back to JSON mode.\n",
      "2025/08/02 20:37:58 WARNING dspy.adapters.json_adapter: Failed to use structured output format, falling back to JSON mode.\n",
      "2025/08/02 20:37:58 WARNING dspy.adapters.json_adapter: Failed to use structured output format, falling back to JSON mode.\n",
      "Processing with DSPy:  67%|█████████████████████████████████████████████████████████████████████████████▎                                     | 269/400 [01:19<01:51,  1.18it/s]2025/08/02 20:37:59 WARNING dspy.adapters.json_adapter: Failed to use structured output format, falling back to JSON mode.\n",
      "2025/08/02 20:37:59 WARNING dspy.adapters.json_adapter: Failed to use structured output format, falling back to JSON mode.\n",
      "Processing with DSPy:  70%|████████████████████████████████████████████████████████████████████████████████▌                                  | 280/400 [01:19<00:27,  4.42it/s]2025/08/02 20:37:59 WARNING dspy.adapters.json_adapter: Failed to use structured output format, falling back to JSON mode.\n",
      "2025/08/02 20:38:00 WARNING dspy.adapters.json_adapter: Failed to use structured output format, falling back to JSON mode.\n",
      "2025/08/02 20:38:00 WARNING dspy.adapters.json_adapter: Failed to use structured output format, falling back to JSON mode.\n",
      "2025/08/02 20:38:01 WARNING dspy.adapters.json_adapter: Failed to use structured output format, falling back to JSON mode.\n",
      "2025/08/02 20:38:01 WARNING dspy.adapters.json_adapter: Failed to use structured output format, falling back to JSON mode.\n",
      "2025/08/02 20:38:01 WARNING dspy.adapters.json_adapter: Failed to use structured output format, falling back to JSON mode.\n",
      "Processing with DSPy:  71%|█████████████████████████████████████████████████████████████████████████████████▎                                 | 283/400 [01:22<00:40,  2.88it/s]2025/08/02 20:38:01 WARNING dspy.adapters.json_adapter: Failed to use structured output format, falling back to JSON mode.\n",
      "2025/08/02 20:38:02 WARNING dspy.adapters.json_adapter: Failed to use structured output format, falling back to JSON mode.\n",
      "Processing with DSPy:  72%|███████████████████████████████████████████████████████████████████████████████████                                | 289/400 [01:22<00:28,  3.92it/s]2025/08/02 20:38:02 WARNING dspy.adapters.json_adapter: Failed to use structured output format, falling back to JSON mode.\n",
      "2025/08/02 20:38:02 WARNING dspy.adapters.json_adapter: Failed to use structured output format, falling back to JSON mode.\n",
      "2025/08/02 20:38:02 WARNING dspy.adapters.json_adapter: Failed to use structured output format, falling back to JSON mode.\n",
      "Processing with DSPy:  73%|███████████████████████████████████████████████████████████████████████████████████▋                               | 291/400 [01:23<00:25,  4.22it/s]2025/08/02 20:38:03 WARNING dspy.adapters.json_adapter: Failed to use structured output format, falling back to JSON mode.\n",
      "Processing with DSPy:  73%|████████████████████████████████████████████████████████████████████████████████████▏                              | 293/400 [01:23<00:24,  4.33it/s]2025/08/02 20:38:03 WARNING dspy.adapters.json_adapter: Failed to use structured output format, falling back to JSON mode.\n",
      "2025/08/02 20:38:03 WARNING dspy.adapters.json_adapter: Failed to use structured output format, falling back to JSON mode.\n",
      "Processing with DSPy:  74%|████████████████████████████████████████████████████████████████████████████████████▊                              | 295/400 [01:24<00:26,  3.99it/s]2025/08/02 20:38:03 WARNING dspy.adapters.json_adapter: Failed to use structured output format, falling back to JSON mode.\n",
      "2025/08/02 20:38:04 WARNING dspy.adapters.json_adapter: Failed to use structured output format, falling back to JSON mode.\n",
      "Processing with DSPy:  74%|█████████████████████████████████████████████████████████████████████████████████████▍                             | 297/400 [01:24<00:27,  3.76it/s]2025/08/02 20:38:04 WARNING dspy.adapters.json_adapter: Failed to use structured output format, falling back to JSON mode.\n",
      "2025/08/02 20:38:04 WARNING dspy.adapters.json_adapter: Failed to use structured output format, falling back to JSON mode.\n",
      "2025/08/02 20:38:04 WARNING dspy.adapters.json_adapter: Failed to use structured output format, falling back to JSON mode.\n",
      "Processing with DSPy:  74%|█████████████████████████████████████████████████████████████████████████████████████▋                             | 298/400 [01:25<00:28,  3.58it/s]2025/08/02 20:38:04 WARNING dspy.adapters.json_adapter: Failed to use structured output format, falling back to JSON mode.\n",
      "Processing with DSPy:  75%|██████████████████████████████████████████████████████████████████████████████████████▌                            | 301/400 [01:25<00:21,  4.59it/s]2025/08/02 20:38:05 WARNING dspy.adapters.json_adapter: Failed to use structured output format, falling back to JSON mode.\n",
      "Processing with DSPy:  76%|██████████████████████████████████████████████████████████████████████████████████████▊                            | 302/400 [01:25<00:22,  4.27it/s]2025/08/02 20:38:05 WARNING dspy.adapters.json_adapter: Failed to use structured output format, falling back to JSON mode.\n",
      "2025/08/02 20:38:05 WARNING dspy.adapters.json_adapter: Failed to use structured output format, falling back to JSON mode.\n",
      "2025/08/02 20:38:06 WARNING dspy.adapters.json_adapter: Failed to use structured output format, falling back to JSON mode.\n",
      "2025/08/02 20:38:06 WARNING dspy.adapters.json_adapter: Failed to use structured output format, falling back to JSON mode.\n",
      "2025/08/02 20:38:06 WARNING dspy.adapters.json_adapter: Failed to use structured output format, falling back to JSON mode.\n",
      "Processing with DSPy:  76%|███████████████████████████████████████████████████████████████████████████████████████                            | 303/400 [01:27<00:39,  2.43it/s]2025/08/02 20:38:06 WARNING dspy.adapters.json_adapter: Failed to use structured output format, falling back to JSON mode.\n",
      "2025/08/02 20:38:06 WARNING dspy.adapters.json_adapter: Failed to use structured output format, falling back to JSON mode.\n",
      "2025/08/02 20:38:07 WARNING dspy.adapters.json_adapter: Failed to use structured output format, falling back to JSON mode.\n",
      "2025/08/02 20:38:07 WARNING dspy.adapters.json_adapter: Failed to use structured output format, falling back to JSON mode.\n",
      "2025/08/02 20:38:08 WARNING dspy.adapters.json_adapter: Failed to use structured output format, falling back to JSON mode.\n",
      "2025/08/02 20:38:08 WARNING dspy.adapters.json_adapter: Failed to use structured output format, falling back to JSON mode.\n",
      "2025/08/02 20:38:08 WARNING dspy.adapters.json_adapter: Failed to use structured output format, falling back to JSON mode.\n",
      "Processing with DSPy:  77%|████████████████████████████████████████████████████████████████████████████████████████▌                          | 308/400 [01:29<00:38,  2.36it/s]2025/08/02 20:38:09 WARNING dspy.adapters.json_adapter: Failed to use structured output format, falling back to JSON mode.\n",
      "2025/08/02 20:38:09 WARNING dspy.adapters.json_adapter: Failed to use structured output format, falling back to JSON mode.\n",
      "2025/08/02 20:38:09 WARNING dspy.adapters.json_adapter: Failed to use structured output format, falling back to JSON mode.\n",
      "Processing with DSPy:  79%|██████████████████████████████████████████████████████████████████████████████████████████▊                        | 316/400 [01:30<00:19,  4.23it/s]2025/08/02 20:38:09 WARNING dspy.adapters.json_adapter: Failed to use structured output format, falling back to JSON mode.\n",
      "2025/08/02 20:38:09 WARNING dspy.adapters.json_adapter: Failed to use structured output format, falling back to JSON mode.\n",
      "Processing with DSPy:  80%|███████████████████████████████████████████████████████████████████████████████████████████▋                       | 319/400 [01:30<00:17,  4.65it/s]2025/08/02 20:38:10 WARNING dspy.adapters.json_adapter: Failed to use structured output format, falling back to JSON mode.\n",
      "Processing with DSPy:  80%|████████████████████████████████████████████████████████████████████████████████████████████                       | 320/400 [01:30<00:18,  4.28it/s]2025/08/02 20:38:10 WARNING dspy.adapters.json_adapter: Failed to use structured output format, falling back to JSON mode.\n",
      "2025/08/02 20:38:10 WARNING dspy.adapters.json_adapter: Failed to use structured output format, falling back to JSON mode.\n",
      "2025/08/02 20:38:10 WARNING dspy.adapters.json_adapter: Failed to use structured output format, falling back to JSON mode.\n",
      "2025/08/02 20:38:11 WARNING dspy.adapters.json_adapter: Failed to use structured output format, falling back to JSON mode.\n",
      "2025/08/02 20:38:11 WARNING dspy.adapters.json_adapter: Failed to use structured output format, falling back to JSON mode.\n",
      "Processing with DSPy:  80%|████████████████████████████████████████████████████████████████████████████████████████████▌                      | 322/400 [01:32<00:24,  3.22it/s]2025/08/02 20:38:11 WARNING dspy.adapters.json_adapter: Failed to use structured output format, falling back to JSON mode.\n",
      "Processing with DSPy:  82%|█████████████████████████████████████████████████████████████████████████████████████████████▋                     | 326/400 [01:32<00:17,  4.26it/s]2025/08/02 20:38:12 WARNING dspy.adapters.json_adapter: Failed to use structured output format, falling back to JSON mode.\n",
      "2025/08/02 20:38:12 WARNING dspy.adapters.json_adapter: Failed to use structured output format, falling back to JSON mode.\n",
      "Processing with DSPy:  82%|██████████████████████████████████████████████████████████████████████████████████████████████                     | 327/400 [01:32<00:17,  4.24it/s]2025/08/02 20:38:12 WARNING dspy.adapters.json_adapter: Failed to use structured output format, falling back to JSON mode.\n",
      "Processing with DSPy:  82%|██████████████████████████████████████████████████████████████████████████████████████████████▎                    | 328/400 [01:32<00:16,  4.39it/s]2025/08/02 20:38:12 WARNING dspy.adapters.json_adapter: Failed to use structured output format, falling back to JSON mode.\n",
      "Processing with DSPy:  82%|██████████████████████████████████████████████████████████████████████████████████████████████▉                    | 330/400 [01:33<00:13,  5.31it/s]2025/08/02 20:38:12 WARNING dspy.adapters.json_adapter: Failed to use structured output format, falling back to JSON mode.\n",
      "2025/08/02 20:38:13 WARNING dspy.adapters.json_adapter: Failed to use structured output format, falling back to JSON mode.\n",
      "2025/08/02 20:38:13 WARNING dspy.adapters.json_adapter: Failed to use structured output format, falling back to JSON mode.\n",
      "Processing with DSPy:  83%|███████████████████████████████████████████████████████████████████████████████████████████████▏                   | 331/400 [01:34<00:23,  2.89it/s]2025/08/02 20:38:13 WARNING dspy.adapters.json_adapter: Failed to use structured output format, falling back to JSON mode.\n",
      "2025/08/02 20:38:13 WARNING dspy.adapters.json_adapter: Failed to use structured output format, falling back to JSON mode.\n",
      "Processing with DSPy:  83%|███████████████████████████████████████████████████████████████████████████████████████████████▋                   | 333/400 [01:34<00:18,  3.70it/s]2025/08/02 20:38:14 WARNING dspy.adapters.json_adapter: Failed to use structured output format, falling back to JSON mode.\n",
      "2025/08/02 20:38:14 WARNING dspy.adapters.json_adapter: Failed to use structured output format, falling back to JSON mode.\n",
      "2025/08/02 20:38:14 WARNING dspy.adapters.json_adapter: Failed to use structured output format, falling back to JSON mode.\n",
      "Processing with DSPy:  84%|████████████████████████████████████████████████████████████████████████████████████████████████▌                  | 336/400 [01:35<00:16,  3.88it/s]2025/08/02 20:38:14 WARNING dspy.adapters.json_adapter: Failed to use structured output format, falling back to JSON mode.\n",
      "Processing with DSPy:  84%|████████████████████████████████████████████████████████████████████████████████████████████████▉                  | 337/400 [01:35<00:19,  3.15it/s]2025/08/02 20:38:15 WARNING dspy.adapters.json_adapter: Failed to use structured output format, falling back to JSON mode.\n",
      "Processing with DSPy:  85%|█████████████████████████████████████████████████████████████████████████████████████████████████▊                 | 340/400 [01:35<00:12,  4.91it/s]2025/08/02 20:38:15 WARNING dspy.adapters.json_adapter: Failed to use structured output format, falling back to JSON mode.\n",
      "2025/08/02 20:38:15 WARNING dspy.adapters.json_adapter: Failed to use structured output format, falling back to JSON mode.\n",
      "2025/08/02 20:38:15 WARNING dspy.adapters.json_adapter: Failed to use structured output format, falling back to JSON mode.\n",
      "2025/08/02 20:38:16 WARNING dspy.adapters.json_adapter: Failed to use structured output format, falling back to JSON mode.\n",
      "Processing with DSPy:  86%|██████████████████████████████████████████████████████████████████████████████████████████████████▌                | 343/400 [01:36<00:12,  4.42it/s]2025/08/02 20:38:16 WARNING dspy.adapters.json_adapter: Failed to use structured output format, falling back to JSON mode.\n",
      "2025/08/02 20:38:16 WARNING dspy.adapters.json_adapter: Failed to use structured output format, falling back to JSON mode.\n",
      "Processing with DSPy:  86%|██████████████████████████████████████████████████████████████████████████████████████████████████▉                | 344/400 [01:37<00:16,  3.48it/s]2025/08/02 20:38:17 WARNING dspy.adapters.json_adapter: Failed to use structured output format, falling back to JSON mode.\n",
      "2025/08/02 20:38:17 WARNING dspy.adapters.json_adapter: Failed to use structured output format, falling back to JSON mode.\n",
      "2025/08/02 20:38:17 WARNING dspy.adapters.json_adapter: Failed to use structured output format, falling back to JSON mode.\n",
      "Processing with DSPy:  87%|████████████████████████████████████████████████████████████████████████████████████████████████████               | 348/400 [01:37<00:11,  4.46it/s]2025/08/02 20:38:17 WARNING dspy.adapters.json_adapter: Failed to use structured output format, falling back to JSON mode.\n",
      "2025/08/02 20:38:17 WARNING dspy.adapters.json_adapter: Failed to use structured output format, falling back to JSON mode.\n",
      "Processing with DSPy:  88%|████████████████████████████████████████████████████████████████████████████████████████████████████▉              | 351/400 [01:38<00:09,  5.27it/s]2025/08/02 20:38:18 WARNING dspy.adapters.json_adapter: Failed to use structured output format, falling back to JSON mode.\n",
      "2025/08/02 20:38:18 WARNING dspy.adapters.json_adapter: Failed to use structured output format, falling back to JSON mode.\n",
      "Processing with DSPy:  88%|█████████████████████████████████████████████████████████████████████████████████████████████████████▏             | 352/400 [01:39<00:13,  3.68it/s]2025/08/02 20:38:18 WARNING dspy.adapters.json_adapter: Failed to use structured output format, falling back to JSON mode.\n",
      "2025/08/02 20:38:19 WARNING dspy.adapters.json_adapter: Failed to use structured output format, falling back to JSON mode.\n",
      "Processing with DSPy:  88%|█████████████████████████████████████████████████████████████████████████████████████████████████████▊             | 354/400 [01:39<00:11,  4.12it/s]2025/08/02 20:38:19 WARNING dspy.adapters.json_adapter: Failed to use structured output format, falling back to JSON mode.\n",
      "2025/08/02 20:38:19 WARNING dspy.adapters.json_adapter: Failed to use structured output format, falling back to JSON mode.\n",
      "Processing with DSPy:  89%|██████████████████████████████████████████████████████████████████████████████████████████████████████▋            | 357/400 [01:40<00:09,  4.41it/s]2025/08/02 20:38:19 WARNING dspy.adapters.json_adapter: Failed to use structured output format, falling back to JSON mode.\n",
      "2025/08/02 20:38:19 WARNING dspy.adapters.json_adapter: Failed to use structured output format, falling back to JSON mode.\n",
      "2025/08/02 20:38:19 WARNING dspy.adapters.json_adapter: Failed to use structured output format, falling back to JSON mode.\n",
      "Processing with DSPy:  90%|██████████████████████████████████████████████████████████████████████████████████████████████████████▉            | 358/400 [01:40<00:10,  4.12it/s]2025/08/02 20:38:20 WARNING dspy.adapters.json_adapter: Failed to use structured output format, falling back to JSON mode.\n",
      "Processing with DSPy:  90%|███████████████████████████████████████████████████████████████████████████████████████████████████████▊           | 361/400 [01:40<00:08,  4.54it/s]2025/08/02 20:38:20 WARNING dspy.adapters.json_adapter: Failed to use structured output format, falling back to JSON mode.\n",
      "2025/08/02 20:38:20 WARNING dspy.adapters.json_adapter: Failed to use structured output format, falling back to JSON mode.\n",
      "2025/08/02 20:38:21 WARNING dspy.adapters.json_adapter: Failed to use structured output format, falling back to JSON mode.\n",
      "Processing with DSPy:  90%|████████████████████████████████████████████████████████████████████████████████████████████████████████           | 362/400 [01:41<00:10,  3.52it/s]2025/08/02 20:38:21 WARNING dspy.adapters.json_adapter: Failed to use structured output format, falling back to JSON mode.\n",
      "Processing with DSPy:  91%|████████████████████████████████████████████████████████████████████████████████████████████████████████▉          | 365/400 [01:41<00:07,  4.89it/s]2025/08/02 20:38:21 WARNING dspy.adapters.json_adapter: Failed to use structured output format, falling back to JSON mode.\n",
      "2025/08/02 20:38:21 WARNING dspy.adapters.json_adapter: Failed to use structured output format, falling back to JSON mode.\n",
      "Processing with DSPy:  92%|█████████████████████████████████████████████████████████████████████████████████████████████████████████▌         | 367/400 [01:42<00:07,  4.66it/s]2025/08/02 20:38:22 WARNING dspy.adapters.json_adapter: Failed to use structured output format, falling back to JSON mode.\n",
      "2025/08/02 20:38:22 WARNING dspy.adapters.json_adapter: Failed to use structured output format, falling back to JSON mode.\n",
      "Processing with DSPy:  92%|██████████████████████████████████████████████████████████████████████████████████████████████████████████         | 369/400 [01:42<00:05,  5.62it/s]2025/08/02 20:38:22 WARNING dspy.adapters.json_adapter: Failed to use structured output format, falling back to JSON mode.\n",
      "2025/08/02 20:38:22 WARNING dspy.adapters.json_adapter: Failed to use structured output format, falling back to JSON mode.\n",
      "Processing with DSPy:  93%|██████████████████████████████████████████████████████████████████████████████████████████████████████████▋        | 371/400 [01:42<00:05,  5.21it/s]2025/08/02 20:38:22 WARNING dspy.adapters.json_adapter: Failed to use structured output format, falling back to JSON mode.\n",
      "Processing with DSPy:  93%|██████████████████████████████████████████████████████████████████████████████████████████████████████████▉        | 372/400 [01:43<00:05,  5.34it/s]2025/08/02 20:38:22 WARNING dspy.adapters.json_adapter: Failed to use structured output format, falling back to JSON mode.\n",
      "Processing with DSPy:  93%|███████████████████████████████████████████████████████████████████████████████████████████████████████████▏       | 373/400 [01:43<00:04,  5.66it/s]2025/08/02 20:38:22 WARNING dspy.adapters.json_adapter: Failed to use structured output format, falling back to JSON mode.\n",
      "Processing with DSPy:  94%|███████████████████████████████████████████████████████████████████████████████████████████████████████████▌       | 374/400 [01:43<00:05,  5.12it/s]2025/08/02 20:38:23 WARNING dspy.adapters.json_adapter: Failed to use structured output format, falling back to JSON mode.\n",
      "2025/08/02 20:38:23 WARNING dspy.adapters.json_adapter: Failed to use structured output format, falling back to JSON mode.\n",
      "Processing with DSPy:  94%|███████████████████████████████████████████████████████████████████████████████████████████████████████████▊       | 375/400 [01:44<00:08,  3.07it/s]2025/08/02 20:38:23 WARNING dspy.adapters.json_adapter: Failed to use structured output format, falling back to JSON mode.\n",
      "2025/08/02 20:38:24 WARNING dspy.adapters.json_adapter: Failed to use structured output format, falling back to JSON mode.\n",
      "2025/08/02 20:38:24 WARNING dspy.adapters.json_adapter: Failed to use structured output format, falling back to JSON mode.\n",
      "2025/08/02 20:38:25 WARNING dspy.adapters.json_adapter: Failed to use structured output format, falling back to JSON mode.\n",
      "2025/08/02 20:38:25 WARNING dspy.adapters.json_adapter: Failed to use structured output format, falling back to JSON mode.\n",
      "2025/08/02 20:38:25 WARNING dspy.adapters.json_adapter: Failed to use structured output format, falling back to JSON mode.\n",
      "2025/08/02 20:38:25 WARNING dspy.adapters.json_adapter: Failed to use structured output format, falling back to JSON mode.\n",
      "2025/08/02 20:38:26 WARNING dspy.adapters.json_adapter: Failed to use structured output format, falling back to JSON mode.\n",
      "Processing with DSPy:  94%|████████████████████████████████████████████████████████████████████████████████████████████████████████████       | 376/400 [01:46<00:20,  1.15it/s]2025/08/02 20:38:26 WARNING dspy.adapters.json_adapter: Failed to use structured output format, falling back to JSON mode.\n",
      "2025/08/02 20:38:26 WARNING dspy.adapters.json_adapter: Failed to use structured output format, falling back to JSON mode.\n",
      "Processing with DSPy:  96%|██████████████████████████████████████████████████████████████████████████████████████████████████████████████▋    | 385/400 [01:47<00:03,  4.36it/s]2025/08/02 20:38:26 WARNING dspy.adapters.json_adapter: Failed to use structured output format, falling back to JSON mode.\n",
      "Processing with DSPy:  97%|███████████████████████████████████████████████████████████████████████████████████████████████████████████████▎   | 387/400 [01:47<00:02,  4.62it/s]2025/08/02 20:38:27 WARNING dspy.adapters.json_adapter: Failed to use structured output format, falling back to JSON mode.\n",
      "Processing with DSPy:  97%|███████████████████████████████████████████████████████████████████████████████████████████████████████████████▌   | 388/400 [01:47<00:02,  4.08it/s]2025/08/02 20:38:27 WARNING dspy.adapters.json_adapter: Failed to use structured output format, falling back to JSON mode.\n",
      "2025/08/02 20:38:27 WARNING dspy.adapters.json_adapter: Failed to use structured output format, falling back to JSON mode.\n",
      "Processing with DSPy:  97%|███████████████████████████████████████████████████████████████████████████████████████████████████████████████▊   | 389/400 [01:48<00:02,  3.93it/s]2025/08/02 20:38:27 WARNING dspy.adapters.json_adapter: Failed to use structured output format, falling back to JSON mode.\n",
      "Processing with DSPy:  98%|████████████████████████████████████████████████████████████████████████████████████████████████████████████████▏  | 390/400 [01:48<00:02,  4.00it/s]2025/08/02 20:38:28 WARNING dspy.adapters.json_adapter: Failed to use structured output format, falling back to JSON mode.\n",
      "2025/08/02 20:38:28 WARNING dspy.adapters.json_adapter: Failed to use structured output format, falling back to JSON mode.\n",
      "2025/08/02 20:38:28 WARNING dspy.adapters.json_adapter: Failed to use structured output format, falling back to JSON mode.\n",
      "Processing with DSPy:  98%|████████████████████████████████████████████████████████████████████████████████████████████████████████████████▉  | 393/400 [01:49<00:01,  4.12it/s]2025/08/02 20:38:28 WARNING dspy.adapters.json_adapter: Failed to use structured output format, falling back to JSON mode.\n",
      "2025/08/02 20:38:28 WARNING dspy.adapters.json_adapter: Failed to use structured output format, falling back to JSON mode.\n",
      "Processing with DSPy:  99%|█████████████████████████████████████████████████████████████████████████████████████████████████████████████████▊ | 396/400 [01:49<00:00,  4.95it/s]2025/08/02 20:38:29 WARNING dspy.adapters.json_adapter: Failed to use structured output format, falling back to JSON mode.\n",
      "Processing with DSPy: 100%|███████████████████████████████████████████████████████████████████████████████████████████████████████████████████| 400/400 [01:51<00:00,  3.60it/s]\n"
     ]
    }
   ],
   "source": [
    "# Create DSPy configuration for multiprocessing\n",
    "dspy_config = {\n",
    "  \"model_name\": \"openai/gpt-3.5-turbo\",\n",
    "  \"api_key\": secrets[\"OPENAI_API_KEY\"],\n",
    "  \"signature_class\": SupportTranscriptNextResponse,\n",
    "  \"temperature\": 1\n",
    "}\n",
    "\n",
    "support_transcript_generator_module = dspy.ChainOfThought(SupportTranscriptNextResponse)\n",
    "\n",
    "# Initialize processor with both module and config\n",
    "dspy_judge_processor = ParallelProcessor(\n",
    "  dspy_module=support_transcript_generator_module,\n",
    "  dspy_config=dspy_config\n",
    ")\n",
    "\n",
    "# Now this should work without pickling errors\n",
    "dspy_judge_results = dspy_judge_processor.process_dataset_with_dspy(\n",
    "  truncated_loaded_sampled,\n",
    "  input_field=\"company_and_transcript\"\n",
    ")"
   ]
  },
  {
   "cell_type": "code",
   "execution_count": 57,
   "id": "b7a5d96d-3ea2-4079-8940-15d1bade37de",
   "metadata": {},
   "outputs": [
    {
     "name": "stderr",
     "output_type": "stream",
     "text": [
      "Map: 100%|██████████████████████████████████████████████████████████████████████████████████████████████████████████████████████████| 400/400 [00:00<00:00, 13512.14 examples/s]\n"
     ]
    }
   ],
   "source": [
    "dspy_baseline_results = dspy_judge_results.map(concat_latest_response_dspy)"
   ]
  },
  {
   "cell_type": "code",
   "execution_count": 58,
   "id": "6d9cd05c-3a10-4b98-8b9c-3a39802b2391",
   "metadata": {},
   "outputs": [],
   "source": [
    "dspy_baseline_output_pd = dspy_baseline_results.to_pandas()"
   ]
  },
  {
   "cell_type": "code",
   "execution_count": 60,
   "id": "5337250d-c5af-46cb-95a5-043086e9f5e1",
   "metadata": {},
   "outputs": [],
   "source": [
    "dspy_baseline_output_pd[\"count_words_response\"] = dspy_baseline_output_pd[\"dspy_response\"].apply(\n",
    "    lambda x: len(x[\"llm_response\"].split())\n",
    ")\n",
    "dspy_baseline_output_pd[\"output_readability\"] = dspy_baseline_output_pd[\"dspy_response\"].apply(\n",
    "    lambda x: textstat.flesch_reading_ease(x[\"llm_response\"])\n",
    ")"
   ]
  },
  {
   "cell_type": "code",
   "execution_count": 61,
   "id": "45b57d45-615c-42d5-983e-e91e8f098b02",
   "metadata": {},
   "outputs": [
    {
     "data": {
      "text/plain": [
       "<seaborn.axisgrid.FacetGrid at 0x13aa4ddc0>"
      ]
     },
     "execution_count": 61,
     "metadata": {},
     "output_type": "execute_result"
    },
    {
     "data": {
      "image/png": "[encoded data removed]",
      "text/plain": [
       "<Figure size 500x500 with 1 Axes>"
      ]
     },
     "metadata": {},
     "output_type": "display_data"
    }
   ],
   "source": [
    "sns.displot(data=dspy_baseline_output_pd,x=\"count_words_response\")"
   ]
  },
  {
   "cell_type": "code",
   "execution_count": 62,
   "id": "daa4c84c-e799-4ecb-a030-42549ed499b8",
   "metadata": {},
   "outputs": [
    {
     "data": {
      "text/plain": [
       "<seaborn.axisgrid.FacetGrid at 0x13dbcd880>"
      ]
     },
     "execution_count": 62,
     "metadata": {},
     "output_type": "execute_result"
    },
    {
     "data": {
      "image/png": "[encoded data removed]",
      "text/plain": [
       "<Figure size 500x500 with 1 Axes>"
      ]
     },
     "metadata": {},
     "output_type": "display_data"
    }
   ],
   "source": [
    "sns.displot(data=dspy_baseline_output_pd,x=\"output_readability\")"
   ]
  },
  {
   "cell_type": "markdown",
   "id": "f47859a7-f1f0-4c6e-9d88-2a0f30c58f82",
   "metadata": {},
   "source": [
    "### Option 2: Generate using traditional approach"
   ]
  },
  {
   "cell_type": "code",
   "execution_count": 36,
   "id": "a034e62a-065f-436e-8d0c-7825bd7d88eb",
   "metadata": {},
   "outputs": [
    {
     "name": "stdout",
     "output_type": "stream",
     "text": [
      "Processing 400 examples with 4 workers...\n"
     ]
    },
    {
     "name": "stderr",
     "output_type": "stream",
     "text": [
      "Processing with LLM: 100%|████████████████████████████████████████████████████████████████████████████████████████████████████████████████████| 400/400 [01:12<00:00,  5.48it/s]\n"
     ]
    }
   ],
   "source": [
    "baseline_model_name = \"gpt-3.5-turbo\"\n",
    "baseline_model = OpenAITextOutputCaller(api_key=secrets[\"OPENAI_API_KEY\"])\n",
    "baseline_processor = ParallelProcessor(baseline_model, max_workers=4)\n",
    "baseline_results = baseline_processor.process_dataset(\n",
    "        truncated_loaded_sampled,\n",
    "        system_prompt=baseline_customer_response_support_system_prompt,\n",
    "        model_name=baseline_model_name,\n",
    "        input_field=\"company_and_transcript\",\n",
    "        temperature=1.0\n",
    "    )"
   ]
  },
  {
   "cell_type": "code",
   "execution_count": 40,
   "id": "59e68564-bb17-4892-b54a-71c9c5552ed3",
   "metadata": {},
   "outputs": [
    {
     "name": "stderr",
     "output_type": "stream",
     "text": [
      "Map: 100%|██████████████████████████████████████████████████████████████████████████████████████████████████████████████████████████| 400/400 [00:00<00:00, 12233.46 examples/s]\n"
     ]
    }
   ],
   "source": [
    "baseline_results = baseline_results.map(concat_latest_response)"
   ]
  },
  {
   "cell_type": "code",
   "execution_count": 41,
   "id": "c4515d47-4453-4728-a0f0-45565ad5ed38",
   "metadata": {},
   "outputs": [],
   "source": [
    "baseline_results_pd = baseline_results.to_pandas()"
   ]
  },
  {
   "cell_type": "code",
   "execution_count": 47,
   "id": "c0faf816-3fc2-4ca5-a2ed-76748ba77298",
   "metadata": {},
   "outputs": [],
   "source": [
    "baseline_results_pd[\"count_words_response\"] = baseline_results_pd[\"llm_response\"].apply(lambda x: len(x.split()))\n",
    "baseline_results_pd[\"output_readability\"] = baseline_results_pd[\"llm_response\"].apply(lambda x: textstat.flesch_reading_ease(x))"
   ]
  },
  {
   "cell_type": "code",
   "execution_count": 45,
   "id": "8c3a4cce-b978-4dec-a585-207323e48725",
   "metadata": {},
   "outputs": [
    {
     "data": {
      "text/plain": [
       "<seaborn.axisgrid.FacetGrid at 0x13939ef00>"
      ]
     },
     "execution_count": 45,
     "metadata": {},
     "output_type": "execute_result"
    },
    {
     "data": {
      "image/png": "[encoded data removed]",
      "text/plain": [
       "<Figure size 500x500 with 1 Axes>"
      ]
     },
     "metadata": {},
     "output_type": "display_data"
    }
   ],
   "source": [
    "sns.displot(data=baseline_results_pd,x=\"count_words_response\")"
   ]
  },
  {
   "cell_type": "code",
   "execution_count": 50,
   "id": "a90da079-8a39-4a61-b4a1-836df22aad9e",
   "metadata": {},
   "outputs": [
    {
     "data": {
      "text/plain": [
       "<seaborn.axisgrid.FacetGrid at 0x13a131790>"
      ]
     },
     "execution_count": 50,
     "metadata": {},
     "output_type": "execute_result"
    },
    {
     "data": {
      "image/png": "[encoded data removed]",
      "text/plain": [
       "<Figure size 500x500 with 1 Axes>"
      ]
     },
     "metadata": {},
     "output_type": "display_data"
    }
   ],
   "source": [
    "sns.displot(data=baseline_results_pd,x=\"output_readability\")"
   ]
  },
  {
   "cell_type": "markdown",
   "id": "80a8624f-acfb-4b61-a299-19e63aab8aae",
   "metadata": {},
   "source": [
    "## Split the output dataset\n",
    "\n",
    "Train will be the dev dataset, test will be the dataset we'll use for judge validation"
   ]
  },
  {
   "cell_type": "code",
   "execution_count": 63,
   "id": "367faa02-49a7-4819-b421-7abee76477e5",
   "metadata": {},
   "outputs": [],
   "source": [
    "split_ds = dspy_baseline_results.train_test_split(test_size=0.4, seed=10)"
   ]
  },
  {
   "cell_type": "code",
   "execution_count": 64,
   "id": "574f91ff-ca2d-4a4d-a997-98ee2f4c891b",
   "metadata": {},
   "outputs": [
    {
     "name": "stderr",
     "output_type": "stream",
     "text": [
      "Saving the dataset (1/1 shards): 100%|██████████████████████████████████████████████████████████████████████████████████████████████| 240/240 [00:00<00:00, 25434.15 examples/s]\n",
      "Saving the dataset (1/1 shards): 100%|██████████████████████████████████████████████████████████████████████████████████████████████| 160/160 [00:00<00:00, 27472.11 examples/s]"
     ]
    },
    {
     "name": "stdout",
     "output_type": "stream",
     "text": [
      "Dataset saved to datasets/preprocessed_dev_judge_dataset_split\n"
     ]
    },
    {
     "name": "stderr",
     "output_type": "stream",
     "text": [
      "\n"
     ]
    }
   ],
   "source": [
    "data_loader.save_dataset_locally(split_ds,\"datasets/preprocessed_dev_judge_dataset_split\")"
   ]
  }
 ],
 "metadata": {
  "kernelspec": {
   "display_name": "Python 3 (ipykernel)",
   "language": "python",
   "name": "python3"
  },
  "language_info": {
   "codemirror_mode": {
    "name": "ipython",
    "version": 3
   },
   "file_extension": ".py",
   "mimetype": "text/x-python",
   "name": "python",
   "nbconvert_exporter": "python",
   "pygments_lexer": "ipython3",
   "version": "3.12.6"
  }
 },
 "nbformat": 4,
 "nbformat_minor": 5
}
